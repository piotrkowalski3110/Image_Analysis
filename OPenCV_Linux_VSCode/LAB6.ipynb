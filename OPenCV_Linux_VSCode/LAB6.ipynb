{
 "cells": [
  {
   "cell_type": "code",
   "execution_count": null,
   "id": "initial_id",
   "metadata": {
    "ExecuteTime": {
     "end_time": "2023-12-04T22:36:18.163939600Z",
     "start_time": "2023-12-04T22:36:18.147528700Z"
    },
    "collapsed": true
   },
   "outputs": [],
   "source": [
    "\"\"\"\n",
    "Import bibliotek potrzebnych przy realizacji projektu\n",
    "\"\"\"\n",
    "import cv2\n",
    "import numpy as np\n",
    "import matplotlib.pyplot as plt\n",
    "\n",
    "\"\"\"\n",
    "Import bibliotek odpowiedzialnych za SSIM\n",
    "\"\"\"\n",
    "from skimage import data, img_as_float\n",
    "from skimage.metrics import structural_similarity as ssim\n",
    "from skimage.metrics import mean_squared_error"
   ]
  },
  {
   "cell_type": "code",
   "execution_count": null,
   "id": "f90d01385dac83e",
   "metadata": {
    "ExecuteTime": {
     "end_time": "2023-12-04T22:36:18.167947200Z",
     "start_time": "2023-12-04T22:36:18.162407400Z"
    },
    "collapsed": false
   },
   "outputs": [],
   "source": [
    "class ImagesToAnalyse:\n",
    "    def __init__(self, src):\n",
    "        \"\"\"\n",
    "        Utworzenie róznych palet kolorów dla obrazu wejściowego\n",
    "        \"\"\"\n",
    "        self.rgbImg = cv2.cvtColor(src, cv2.COLOR_BGR2RGB)\n",
    "        self.xyzImg = cv2.cvtColor(src, cv2.COLOR_BGR2XYZ)\n",
    "        self.labImg = cv2.cvtColor(src, cv2.COLOR_BGR2LAB)\n",
    "        self.hlsImg = cv2.cvtColor(src, cv2.COLOR_BGR2HLS)\n",
    "        self.hsvImg = cv2.cvtColor(src, cv2.COLOR_BGR2HSV)\n",
    "\n",
    "        \"\"\"\n",
    "        Konwersja każdej palety do skali szarości\n",
    "        \"\"\"\n",
    "        self.rgbGray = cv2.cvtColor(self.rgbImg, cv2.COLOR_RGB2GRAY)\n",
    "        self.xyzGray = self.xyzImg[:, :, 1]\n",
    "        self.labGray = self.labImg[:, :, 0]\n",
    "        self.hlsGray = self.hlsImg[:, :, 1]\n",
    "        self.hsvGray = self.hsvImg[:, :, 2]\n",
    "        \n",
    "        \"\"\"\n",
    "        Utworzenie 3 skali zaszumienia obrazu: 3 różne rozmycia Gaussa oraz 3 różne szumy Sól i Pieprz\n",
    "        \"\"\"\n",
    "        (self.rgbGauss3, self.rgbSaltPepper01) = self.makeSalt_Gauss(self.rgbGray, 3, 0.1)\n",
    "        (self.xyzGauss3, self.xyzSaltPepper01) = self.makeSalt_Gauss(self.xyzGray, 3, 0.1)\n",
    "        (self.labGauss3, self.labSaltPepper01) = self.makeSalt_Gauss(self.labGray, 3, 0.1)\n",
    "        (self.hlsGauss3, self.hlsSaltPepper01) = self.makeSalt_Gauss(self.hlsGray, 3, 0.1)\n",
    "        (self.hsvGauss3, self.hsvSaltPepper01) = self.makeSalt_Gauss(self.hsvGray, 3, 0.1)\n",
    "        \n",
    "        (self.rgbGauss9, self.rgbSaltPepper02) = self.makeSalt_Gauss(self.rgbGray, 9, 0.2)\n",
    "        (self.xyzGauss9, self.xyzSaltPepper02) = self.makeSalt_Gauss(self.xyzGray, 9, 0.2)\n",
    "        (self.labGauss9, self.labSaltPepper02) = self.makeSalt_Gauss(self.labGray, 9, 0.2)\n",
    "        (self.hlsGauss9, self.hlsSaltPepper02) = self.makeSalt_Gauss(self.hlsGray, 9, 0.2)\n",
    "        (self.hsvGauss9, self.hsvSaltPepper02) = self.makeSalt_Gauss(self.hsvGray, 9, 0.2)\n",
    "        \n",
    "        (self.rgbGauss15, self.rgbSaltPepper03) = self.makeSalt_Gauss(self.rgbGray, 15, 0.3)\n",
    "        (self.xyzGauss15, self.xyzSaltPepper03) = self.makeSalt_Gauss(self.xyzGray, 15, 0.3)\n",
    "        (self.labGauss15, self.labSaltPepper03) = self.makeSalt_Gauss(self.labGray, 15, 0.3)\n",
    "        (self.hlsGauss15, self.hlsSaltPepper03) = self.makeSalt_Gauss(self.hlsGray, 15, 0.3)\n",
    "        (self.hsvGauss15, self.hsvSaltPepper03) = self.makeSalt_Gauss(self.hsvGray, 15, 0.3)\n",
    "\n",
    "        \"\"\"\n",
    "        Kompresja obrazów do 3 różnych jakości JPEG\n",
    "        \"\"\"\n",
    "        self.rgbJPEG1 = self.compressionJpeg(self.rgbGray, 1)\n",
    "        self.xyzJPEG1 = self.compressionJpeg(self.xyzGray, 1)\n",
    "        self.labJPEG1 = self.compressionJpeg(self.labGray, 1)\n",
    "        self.hlsJPEG1 = self.compressionJpeg(self.hlsGray, 1)\n",
    "        self.hsvJPEG1 = self.compressionJpeg(self.hsvGray, 1)\n",
    "\n",
    "        self.rgbJPEG15 = self.compressionJpeg(self.rgbGray, 15)\n",
    "        self.xyzJPEG15 = self.compressionJpeg(self.xyzGray, 15)\n",
    "        self.labJPEG15 = self.compressionJpeg(self.labGray, 15)\n",
    "        self.hlsJPEG15 = self.compressionJpeg(self.hlsGray, 15)\n",
    "        self.hsvJPEG15 = self.compressionJpeg(self.hsvGray, 15)\n",
    "\n",
    "        self.rgbJPEG55 = self.compressionJpeg(self.rgbGray, 55)\n",
    "        self.xyzJPEG55 = self.compressionJpeg(self.xyzGray, 55)\n",
    "        self.labJPEG55 = self.compressionJpeg(self.labGray, 55)\n",
    "        self.hlsJPEG55 = self.compressionJpeg(self.hlsGray, 55)\n",
    "        self.hsvJPEG55 = self.compressionJpeg(self.hsvGray, 55)\n",
    "\n",
    "    \"\"\"Metoda realizująca zaszumienie obrazu szumem typu sól i pieprz\"\"\"\n",
    "    def add_salt_and_pepper_noise(self, image, noise_ratio):\n",
    "        noisy_image = image.copy()\n",
    "        h, w = noisy_image.shape\n",
    "        noisy_pixels = int(h * w * noise_ratio)\n",
    "        for x in range(noisy_pixels):\n",
    "            row, col = np.random.randint(0, h), np.random.randint(0, w)\n",
    "            if np.random.rand() < 0.5:\n",
    "                noisy_image[row, col] = 0\n",
    "            else:\n",
    "                noisy_image[row, col] = 255\n",
    "        return noisy_image\n",
    "    \n",
    "    \"\"\"Metoda odpowiedzialna za zapisanie obrazu do pliku w formacie JPEG ze stratną kompresją\"\"\"\n",
    "    def compressionJpeg(self, image, jpeg_quality):\n",
    "        cv2.imwrite('lossy_compressed_image.jpg', image, [cv2.IMWRITE_JPEG_QUALITY, jpeg_quality])\n",
    "        result = cv2.imread('./lossy_compressed_image.jpg')\n",
    "        result = cv2.cvtColor(result, cv2.COLOR_BGR2GRAY)\n",
    "        return result\n",
    "\n",
    "    \"\"\"Metoda realizująca zaszumienie obrazu metodą gaussa i SnP z wykorzystaniem funkcji wbudowanej i funkcji własnej\"\"\"\n",
    "    def makeSalt_Gauss(self, im_to_operate, GaussRatio, SPRatio):\n",
    "        gaussian_result = cv2.GaussianBlur(im_to_operate, (GaussRatio, GaussRatio), cv2.BORDER_DEFAULT)\n",
    "        salt_and_pepper_result = self.add_salt_and_pepper_noise(im_to_operate, SPRatio)\n",
    "        return gaussian_result, salt_and_pepper_result\n",
    "\n",
    "\"\"\"Metoda realizująca ocenę jakości obrazów przy pomocy SSIM\"\"\"\n",
    "def SSIM(baseImage, compareImage):\n",
    "    result = ssim(baseImage, compareImage, data_range=compareImage.max() - compareImage.min())\n",
    "    return result\n",
    "\n",
    "\"\"\"Metoda wyświetlająca obraz bazowy i jego zaszumiony odpowiednik wraz z informacją o wyniku oceny SSIM\"\"\"\n",
    "def ResultsToPrint(baseImage, compareImage, title):\n",
    "    fig = plt.figure(figsize=(10, 7)) \n",
    "    fig.add_subplot(1, 2, 1)\n",
    "    fig.suptitle(title, fontsize=16)\n",
    "    plt.imshow(baseImage, cmap='gray', vmin=0, vmax=255) \n",
    "    plt.axis('off') \n",
    "    plt.title(\"Obraz Bazowy\")\n",
    "\n",
    "    fig.add_subplot(1, 2, 2)\n",
    "    plt.imshow(compareImage, cmap='gray', vmin=0, vmax=255) \n",
    "    plt.axis('off') \n",
    "    plt.title(\"Obraz po zaszumieniu\")"
   ]
  },
  {
   "cell_type": "code",
   "execution_count": null,
   "id": "69bbd164b254ebcc",
   "metadata": {
    "ExecuteTime": {
     "end_time": "2023-12-04T22:36:23.039224300Z",
     "start_time": "2023-12-04T22:36:18.173409100Z"
    },
    "collapsed": false
   },
   "outputs": [],
   "source": [
    "Image = ImagesToAnalyse(cv2.imread(\"./IMG.png\"))"
   ]
  },
  {
   "cell_type": "code",
   "execution_count": null,
   "metadata": {},
   "outputs": [],
   "source": [
    "\"\"\"Wyniki dla obrazu RGB\"\"\"\n",
    "ResultsToPrint(Image.rgbGray, Image.rgbGauss3, \"SSIM dla obrazu RGB zasumionego szumem Gaussa [3x3] wynosi \" + str(SSIM(Image.rgbGray, Image.rgbGauss3)))\n",
    "ResultsToPrint(Image.rgbGray, Image.rgbGauss9, \"SSIM dla obrazu RGB zasumionego szumem Gaussa [9x9] wynosi \" + str(SSIM(Image.rgbGray, Image.rgbGauss9)))\n",
    "ResultsToPrint(Image.rgbGray, Image.rgbGauss15, \"SSIM dla obrazu RGB zasumionego szumem Gaussa [15x15] wynosi \" + str(SSIM(Image.rgbGray, Image.rgbGauss15)))\n",
    "ResultsToPrint(Image.rgbGray, Image.rgbSaltPepper01, \"SSIM dla obrazu RGB zasumionego szumem Salt&Pepper 10% wynosi \" + str(SSIM(Image.rgbGray, Image.rgbSaltPepper01)))\n",
    "ResultsToPrint(Image.rgbGray, Image.rgbSaltPepper02, \"SSIM dla obrazu RGB zasumionego szumem Salt&Pepper 20% wynosi \" + str(SSIM(Image.rgbGray, Image.rgbSaltPepper02)))\n",
    "ResultsToPrint(Image.rgbGray, Image.rgbSaltPepper03, \"SSIM dla obrazu RGB zasumionego szumem Salt&Pepper 30% wynosi \" + str(SSIM(Image.rgbGray, Image.rgbSaltPepper03)))\n",
    "ResultsToPrint(Image.rgbGray, Image.rgbJPEG1, \"SSIM dla obrazu RGB po konwersji stratnej JPEG 1 wynosi \" + str(SSIM(Image.rgbGray, Image.rgbJPEG1)))\n",
    "ResultsToPrint(Image.rgbGray, Image.rgbJPEG15, \"SSIM dla obrazu RGB po konwersji stratnej JPEG 15 wynosi \" + str(SSIM(Image.rgbGray, Image.rgbJPEG15)))\n",
    "ResultsToPrint(Image.rgbGray, Image.rgbJPEG55, \"SSIM dla obrazu RGB po konwersji stratnej JPEG 55 wynosi \" + str(SSIM(Image.rgbGray, Image.rgbJPEG55)))"
   ]
  },
  {
   "cell_type": "code",
   "execution_count": null,
   "metadata": {},
   "outputs": [],
   "source": [
    "\"\"\"Wyniki dla obrazu XYZ\"\"\"\n",
    "ResultsToPrint(Image.xyzGray, Image.xyzGauss3, \"SSIM dla obrazu XYZ zasumionego szumem Gaussa [3x3] wynosi \" + str(SSIM(Image.xyzGray, Image.xyzGauss3)))\n",
    "ResultsToPrint(Image.xyzGray, Image.xyzGauss9, \"SSIM dla obrazu XYZ zasumionego szumem Gaussa [9x9] wynosi \" + str(SSIM(Image.xyzGray, Image.xyzGauss9)))\n",
    "ResultsToPrint(Image.xyzGray, Image.xyzGauss15, \"SSIM dla obrazu XYZ zasumionego szumem Gaussa [15x15] wynosi \" + str(SSIM(Image.xyzGray, Image.xyzGauss15)))\n",
    "ResultsToPrint(Image.xyzGray, Image.xyzSaltPepper01, \"SSIM dla obrazu XYZ zasumionego szumem Salt&Pepper 10% wynosi \" + str(SSIM(Image.xyzGray, Image.xyzSaltPepper01)))\n",
    "ResultsToPrint(Image.xyzGray, Image.xyzSaltPepper02, \"SSIM dla obrazu XYZ zasumionego szumem Salt&Pepper 20% wynosi \" + str(SSIM(Image.xyzGray, Image.xyzSaltPepper02)))\n",
    "ResultsToPrint(Image.xyzGray, Image.xyzSaltPepper03, \"SSIM dla obrazu XYZ zasumionego szumem Salt&Pepper 30% wynosi \" + str(SSIM(Image.xyzGray, Image.xyzSaltPepper03)))\n",
    "ResultsToPrint(Image.xyzGray, Image.xyzJPEG1, \"SSIM dla obrazu XYZ po konwersji stratnej JPEG 1 wynosi \" + str(SSIM(Image.xyzGray, Image.xyzJPEG1)))\n",
    "ResultsToPrint(Image.xyzGray, Image.xyzJPEG15, \"SSIM dla obrazu XYZ po konwersji stratnej JPEG 15 wynosi \" + str(SSIM(Image.xyzGray, Image.xyzJPEG15)))\n",
    "ResultsToPrint(Image.xyzGray, Image.xyzJPEG55, \"SSIM dla obrazu XYZ po konwersji stratnej JPEG 55 wynosi \" + str(SSIM(Image.xyzGray, Image.xyzJPEG55)))"
   ]
  },
  {
   "cell_type": "code",
   "execution_count": null,
   "metadata": {},
   "outputs": [],
   "source": [
    "\"\"\"Wyniki dla obrazu LAB\"\"\"\n",
    "ResultsToPrint(Image.labGray, Image.labGauss3, \"SSIM dla obrazu RGB zasumionego szumem Gaussa [3x3] wynosi \" + str(SSIM(Image.labGray, Image.labGauss3)))\n",
    "ResultsToPrint(Image.labGray, Image.labGauss9, \"SSIM dla obrazu RGB zasumionego szumem Gaussa [9x9] wynosi \" + str(SSIM(Image.labGray, Image.labGauss9)))\n",
    "ResultsToPrint(Image.labGray, Image.labGauss15, \"SSIM dla obrazu RGB zasumionego szumem Gaussa [15x15] wynosi \" + str(SSIM(Image.labGray, Image.labGauss15)))\n",
    "ResultsToPrint(Image.labGray, Image.labSaltPepper01, \"SSIM dla obrazu RGB zasumionego szumem Salt&Pepper 10% wynosi \" + str(SSIM(Image.labGray, Image.labSaltPepper01)))\n",
    "ResultsToPrint(Image.labGray, Image.labSaltPepper02, \"SSIM dla obrazu RGB zasumionego szumem Salt&Pepper 20% wynosi \" + str(SSIM(Image.labGray, Image.labSaltPepper02)))\n",
    "ResultsToPrint(Image.labGray, Image.labSaltPepper03, \"SSIM dla obrazu RGB zasumionego szumem Salt&Pepper 30% wynosi \" + str(SSIM(Image.labGray, Image.labSaltPepper03)))\n",
    "ResultsToPrint(Image.labGray, Image.labJPEG1, \"SSIM dla obrazu RGB po konwersji stratnej JPEG 1 wynosi \" + str(SSIM(Image.labGray, Image.labJPEG1)))\n",
    "ResultsToPrint(Image.labGray, Image.labJPEG15, \"SSIM dla obrazu RGB po konwersji stratnej JPEG 15 wynosi \" + str(SSIM(Image.labGray, Image.labJPEG15)))\n",
    "ResultsToPrint(Image.labGray, Image.labJPEG55, \"SSIM dla obrazu RGB po konwersji stratnej JPEG 55 wynosi \" + str(SSIM(Image.labGray, Image.labJPEG55)))"
   ]
  },
  {
   "cell_type": "code",
   "execution_count": null,
   "metadata": {},
   "outputs": [],
   "source": [
    "\"\"\"Wyniki dla obrazu HLS\"\"\"\n",
    "ResultsToPrint(Image.rgbGray, Image.rgbGauss3, \"SSIM dla obrazu RGB zasumionego szumem Gaussa [3x3] wynosi \" + str(SSIM(Image.rgbGray, Image.rgbGauss3)))\n",
    "ResultsToPrint(Image.rgbGray, Image.rgbGauss9, \"SSIM dla obrazu RGB zasumionego szumem Gaussa [9x9] wynosi \" + str(SSIM(Image.rgbGray, Image.rgbGauss9)))\n",
    "ResultsToPrint(Image.rgbGray, Image.rgbGauss15, \"SSIM dla obrazu RGB zasumionego szumem Gaussa [15x15] wynosi \" + str(SSIM(Image.rgbGray, Image.rgbGauss15)))\n",
    "ResultsToPrint(Image.rgbGray, Image.rgbSaltPepper01, \"SSIM dla obrazu RGB zasumionego szumem Salt&Pepper 10% wynosi \" + str(SSIM(Image.rgbGray, Image.rgbSaltPepper01)))\n",
    "ResultsToPrint(Image.rgbGray, Image.rgbSaltPepper02, \"SSIM dla obrazu RGB zasumionego szumem Salt&Pepper 20% wynosi \" + str(SSIM(Image.rgbGray, Image.rgbSaltPepper02)))\n",
    "ResultsToPrint(Image.rgbGray, Image.rgbSaltPepper03, \"SSIM dla obrazu RGB zasumionego szumem Salt&Pepper 30% wynosi \" + str(SSIM(Image.rgbGray, Image.rgbSaltPepper03)))\n",
    "ResultsToPrint(Image.rgbGray, Image.rgbJPEG1, \"SSIM dla obrazu RGB po konwersji stratnej JPEG 1 wynosi \" + str(SSIM(Image.rgbGray, Image.rgbJPEG1)))\n",
    "ResultsToPrint(Image.rgbGray, Image.rgbJPEG15, \"SSIM dla obrazu RGB po konwersji stratnej JPEG 15 wynosi \" + str(SSIM(Image.rgbGray, Image.rgbJPEG15)))\n",
    "ResultsToPrint(Image.rgbGray, Image.rgbJPEG55, \"SSIM dla obrazu RGB po konwersji stratnej JPEG 55 wynosi \" + str(SSIM(Image.rgbGray, Image.rgbJPEG55)))"
   ]
  },
  {
   "cell_type": "code",
   "execution_count": null,
   "metadata": {},
   "outputs": [],
   "source": [
    "\"\"\"Wyniki dla obrazu HSV\"\"\"\n",
    "ResultsToPrint(Image.hlsGray, Image.rgbGauss3, \"SSIM dla obrazu RGB zasumionego szumem Gaussa [3x3] wynosi \" + str(SSIM(Image.rgbGray, Image.rgbGauss3)))\n",
    "ResultsToPrint(Image.rgbGray, Image.rgbGauss9, \"SSIM dla obrazu RGB zasumionego szumem Gaussa [9x9] wynosi \" + str(SSIM(Image.rgbGray, Image.rgbGauss9)))\n",
    "ResultsToPrint(Image.rgbGray, Image.rgbGauss15, \"SSIM dla obrazu RGB zasumionego szumem Gaussa [15x15] wynosi \" + str(SSIM(Image.rgbGray, Image.rgbGauss15)))\n",
    "ResultsToPrint(Image.rgbGray, Image.rgbSaltPepper01, \"SSIM dla obrazu RGB zasumionego szumem Salt&Pepper 10% wynosi \" + str(SSIM(Image.rgbGray, Image.rgbSaltPepper01)))\n",
    "ResultsToPrint(Image.rgbGray, Image.rgbSaltPepper02, \"SSIM dla obrazu RGB zasumionego szumem Salt&Pepper 20% wynosi \" + str(SSIM(Image.rgbGray, Image.rgbSaltPepper02)))\n",
    "ResultsToPrint(Image.rgbGray, Image.rgbSaltPepper03, \"SSIM dla obrazu RGB zasumionego szumem Salt&Pepper 30% wynosi \" + str(SSIM(Image.rgbGray, Image.rgbSaltPepper03)))\n",
    "ResultsToPrint(Image.rgbGray, Image.rgbJPEG1, \"SSIM dla obrazu RGB po konwersji stratnej JPEG 1 wynosi \" + str(SSIM(Image.rgbGray, Image.rgbJPEG1)))\n",
    "ResultsToPrint(Image.rgbGray, Image.rgbJPEG15, \"SSIM dla obrazu RGB po konwersji stratnej JPEG 15 wynosi \" + str(SSIM(Image.rgbGray, Image.rgbJPEG15)))\n",
    "ResultsToPrint(Image.rgbGray, Image.rgbJPEG55, \"SSIM dla obrazu RGB po konwersji stratnej JPEG 55 wynosi \" + str(SSIM(Image.rgbGray, Image.rgbJPEG55)))"
   ]
  }
 ],
 "metadata": {
  "kernelspec": {
   "display_name": "Python 3",
   "language": "python",
   "name": "python3"
  },
  "language_info": {
   "codemirror_mode": {
    "name": "ipython",
    "version": 3
   },
   "file_extension": ".py",
   "mimetype": "text/x-python",
   "name": "python",
   "nbconvert_exporter": "python",
   "pygments_lexer": "ipython3",
   "version": "3.10.13"
  }
 },
 "nbformat": 4,
 "nbformat_minor": 5
}
