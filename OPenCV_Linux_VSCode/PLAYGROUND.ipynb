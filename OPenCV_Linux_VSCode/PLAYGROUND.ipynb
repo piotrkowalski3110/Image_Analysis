{
 "cells": [
  {
   "cell_type": "code",
   "execution_count": 41,
   "metadata": {},
   "outputs": [],
   "source": [
    "import cv2 as cv\n",
    "import numpy as np\n",
    "import matplotlib.pyplot as plt\n",
    "import statistics"
   ]
  },
  {
   "cell_type": "code",
   "execution_count": 42,
   "metadata": {},
   "outputs": [
    {
     "name": "stdout",
     "output_type": "stream",
     "text": [
      "0.0\n",
      "0.0\n",
      "0.0\n",
      "0.0\n"
     ]
    }
   ],
   "source": [
    "Img = cv.imread(\"Textures/T17.bmp\")\n",
    "rgb = cv.cvtColor(Img, cv.COLOR_BGR2RGB)\n",
    "rgbGray = cv.cvtColor(rgb, cv.COLOR_RGB2GRAY)\n",
    "\n",
    "def GLCM_horizontal(src):\n",
    "    Operator = src.copy()\n",
    "    GLCM_HorRight = np.zeros((256, 256))\n",
    "    h, w = Operator.shape\n",
    "\n",
    "    for i in range(h):\n",
    "        for j in range(w - 1):\n",
    "            get_px = np.array([Operator[i, j], Operator[i, j + 1]])\n",
    "            GLCM_HorRight[get_px[0], get_px[1]] += 1\n",
    "\n",
    "    GLCM_HorLeft = np.matrix.transpose(GLCM_HorRight)\n",
    "    GLCM_HorSym = GLCM_HorRight + GLCM_HorLeft\n",
    "    return GLCM_HorRight, GLCM_HorLeft, GLCM_HorSym\n",
    "\n",
    "glcm_r, glcm_l, glcm_s = GLCM_horizontal(rgbGray)\n",
    "\n",
    "CorrelationSum = 0\n",
    "for a in range(256):\n",
    "    for b in range(256):\n",
    "        ux = np.average(glcm_s[a,:])\n",
    "        uy = np.average(glcm_s[:,b])\n",
    "        ox = np.std(glcm_s[a,:])\n",
    "        oy = np.std(glcm_s[:,b])\n",
    "        if(0 != (ox*oy)):\n",
    "            CorrelationSum += ((a*b)*glcm_s[a,b] - (ux*uy))/(ox*oy)\n",
    "        \n",
    "print(CorrelationSum)\n"
   ]
  }
 ],
 "metadata": {
  "kernelspec": {
   "display_name": "myenv",
   "language": "python",
   "name": "python3"
  },
  "language_info": {
   "codemirror_mode": {
    "name": "ipython",
    "version": 3
   },
   "file_extension": ".py",
   "mimetype": "text/x-python",
   "name": "python",
   "nbconvert_exporter": "python",
   "pygments_lexer": "ipython3",
   "version": "3.10.13"
  }
 },
 "nbformat": 4,
 "nbformat_minor": 2
}
