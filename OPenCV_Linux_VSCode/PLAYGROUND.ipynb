{
 "cells": [
  {
   "cell_type": "code",
   "execution_count": 21,
   "metadata": {},
   "outputs": [],
   "source": [
    "import cv2 as cv\n",
    "import numpy as np\n",
    "import matplotlib.pyplot as plt\n",
    "import statistics"
   ]
  },
  {
   "cell_type": "code",
   "execution_count": 22,
   "metadata": {},
   "outputs": [
    {
     "data": {
      "image/png": "[encoded data removed]",
      "text/plain": [
       "<Figure size 640x480 with 1 Axes>"
      ]
     },
     "metadata": {},
     "output_type": "display_data"
    }
   ],
   "source": [
    "Img = np.array([\n",
    "    [0,0,0,0,0,0,0],\n",
    "    [0,0,1,1,1,1,0],\n",
    "    [0,0,1,0,0,1,0],\n",
    "    [0,1,0,0,0,1,0],\n",
    "    [0,0,1,1,1,0,0],\n",
    "    [0,0,0,0,0,0,0]\n",
    "])\n",
    "\n",
    "plt.imshow(Img)\n",
    "\n",
    "def getStartPos(Image):\n",
    "    for i in range(Image.shape[0]):\n",
    "        for j in range(Image.shape[1]):\n",
    "            getVal = Image[i,j]\n",
    "            if(0 < getVal):\n",
    "                startPosition = [i, j]\n",
    "                return startPosition\n",
    "\n",
    "\n",
    "def FreemanChainCode(Image):\n",
    "    startPoint = getStartPos(Image)\n",
    "    currentPoint = startPoint\n",
    "    FreemanCode = []\n",
    "    iteration = 1\n",
    "\n",
    "    while ((startPoint != currentPoint) and iteration != 0):\n",
    "\n",
    "        if(Image[currentPoint[0], currentPoint[1]+1] == 1):\n",
    "            FreemanCode.append(0)\n",
    "            currentPoint = [currentPoint[0], currentPoint[1]+1]\n",
    "\n",
    "        elif(Image[currentPoint[0]+1, currentPoint[1]+1] == 1):\n",
    "            FreemanCode.append(1)\n",
    "            currentPoint = [currentPoint[0]+1, currentPoint[1]+1]\n",
    "\n",
    "        elif(Image[currentPoint[0]+1, currentPoint[1]] == 1):\n",
    "            FreemanCode.append(2)\n",
    "            currentPoint = [currentPoint[0]+1, currentPoint[1]]\n",
    "\n",
    "        elif(Image[currentPoint[0]+1, currentPoint[1]-1] == 1):\n",
    "            FreemanCode.append(3)\n",
    "            currentPoint = [currentPoint[0]+1, currentPoint[1]-1]\n",
    "\n",
    "        elif(Image[currentPoint[0], currentPoint[1]-1] == 1):\n",
    "            FreemanCode.append(4)\n",
    "            currentPoint = [currentPoint[0], currentPoint[1]-1]\n",
    "\n",
    "        elif(Image[currentPoint[0]-1, currentPoint[1]-1] == 1):\n",
    "            FreemanCode.append(5)\n",
    "            currentPoint = [currentPoint[0]+1, currentPoint[1]]\n",
    "\n",
    "        elif(Image[currentPoint[0]-1, currentPoint[1]] == 1):\n",
    "            FreemanCode.append(6)\n",
    "            currentPoint = [currentPoint[0]-1, currentPoint[1]]\n",
    "\n",
    "        elif(Image[currentPoint[0]-1, currentPoint[1]+1] == 1):\n",
    "            FreemanCode.append(7)\n",
    "            currentPoint = [currentPoint[0]-1, currentPoint[1]+1]\n",
    "\n",
    "        iteration += 1\n",
    "\n",
    "    return FreemanCode\n",
    "\n",
    "frc = FreemanChainCode(Img)"
   ]
  }
 ],
 "metadata": {
  "kernelspec": {
   "display_name": "myenv",
   "language": "python",
   "name": "python3"
  },
  "language_info": {
   "codemirror_mode": {
    "name": "ipython",
    "version": 3
   },
   "file_extension": ".py",
   "mimetype": "text/x-python",
   "name": "python",
   "nbconvert_exporter": "python",
   "pygments_lexer": "ipython3",
   "version": "3.10.13"
  }
 },
 "nbformat": 4,
 "nbformat_minor": 2
}
