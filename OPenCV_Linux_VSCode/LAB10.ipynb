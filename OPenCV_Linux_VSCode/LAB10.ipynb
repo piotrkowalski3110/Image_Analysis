{
 "cells": [
  {
   "cell_type": "code",
   "execution_count": 189,
   "metadata": {},
   "outputs": [],
   "source": [
    "\"\"\"\n",
    "Import bibliotek potrzebnych przy realizacji projektu\n",
    "\"\"\"\n",
    "import cv2\n",
    "import numpy as np\n",
    "import matplotlib.pyplot as plt"
   ]
  },
  {
   "cell_type": "code",
   "execution_count": 190,
   "metadata": {},
   "outputs": [],
   "source": [
    "class MORF:\n",
    "    def __init__(self, srcImage):\n",
    "        self.BaseImg = srcImage\n",
    "        self.GrayImage = cv2.cvtColor(self.BaseImg, cv2.COLOR_BGR2GRAY)\n",
    "        (self.tmp_thresh, self.BinImage) = cv2.threshold(self.GrayImage, 0, 255, cv2.THRESH_BINARY | cv2.THRESH_OTSU)\n",
    "\n",
    "    def Open(self, srcImage):\n",
    "        Operator = srcImage.copy()\n",
    "        kernel = np.ones((24, 24), np.uint8) \n",
    "        ErodedOperator = cv2.erode(Operator, kernel, iterations=1)\n",
    "        OpenOperator = cv2.dilate(ErodedOperator, kernel, iterations=1)\n",
    "        return OpenOperator\n",
    "    \n",
    "    def Close(self, srcImage):\n",
    "        Operator = srcImage.copy()\n",
    "        kernel = np.ones((24, 24), np.uint8) \n",
    "        DilatedOperator = cv2.dilate(Operator, kernel, iterations=1)\n",
    "        ClosedOperator = cv2.erode(DilatedOperator, kernel, iterations=1)\n",
    "        return ClosedOperator\n",
    "    \n",
    "    def OW(self, srcImage):\n",
    "        return np.minimum(srcImage, self.Close(self.Open(self.Close(srcImage))))\n",
    "    \n",
    "    def ZW(self, srcImage):\n",
    "        return np.maximum(srcImage, self.Open(self.Close(self.Open(srcImage))))\n",
    "    \n",
    "    def Automediana(self, srcImage):\n",
    "        return np.maximum(self.Open(self.Close(self.Open(srcImage))) ,self.OW(srcImage))\n",
    "    \n",
    "    def GradientMorfologiczny(self, srcImage):\n",
    "        kernel = np.ones((3, 3), np.uint8) \n",
    "        Dil = cv2.dilate(srcImage, kernel, iterations=1)\n",
    "        Ero = cv2.erode(srcImage, kernel, iterations=1)\n",
    "        Result = Dil - Ero\n",
    "        return Result\n",
    "    \n",
    "    def GradWewn(self, srcImage):\n",
    "        kernel = np.ones((3, 3), np.uint8)\n",
    "        Ero = cv2.erode(srcImage, kernel, iterations=1)\n",
    "        Result = srcImage - Ero\n",
    "        return Result\n",
    "\n",
    "    def GradZewn(self, srcImage):\n",
    "        kernel = np.ones((3, 3), np.uint8)\n",
    "        Dil = cv2.dilate(srcImage, kernel, iterations=1)\n",
    "        Result = Dil - srcImage\n",
    "        return Result\n",
    "    \n",
    "    def LaplasjanMorfologiczny(self, srcImage):\n",
    "        GrZew = self.GradZewn(srcImage)\n",
    "        GrWew = self.GradWewn(srcImage)\n",
    "        Result = GrZew - GrWew\n",
    "        return Result\n",
    "    \n",
    "    def Top_Hat_Filter(self, srcImage):\n",
    "        OpenImg = self.Open(srcImage)\n",
    "        Result = srcImage - OpenImg\n",
    "        return Result\n",
    "\n",
    "    def Bottom_Hat_Filter(self, srcImage):\n",
    "        ClosedImg = self.Close(srcImage)\n",
    "        Result = ClosedImg - srcImage\n",
    "        return Result"
   ]
  },
  {
   "cell_type": "code",
   "execution_count": 191,
   "metadata": {},
   "outputs": [
    {
     "data": {
      "text/plain": [
       "<matplotlib.image.AxesImage at 0x79c3f3d1ea70>"
      ]
     },
     "execution_count": 191,
     "metadata": {},
     "output_type": "execute_result"
    },
    {
     "data": {
      "image/png": "[encoded data removed]",
      "text/plain": [
       "<Figure size 640x480 with 1 Axes>"
      ]
     },
     "metadata": {},
     "output_type": "display_data"
    }
   ],
   "source": [
    "Image = MORF(cv2.imread(\"Wyklad_Img.bmp\"))\n",
    "\n",
    "plt.imshow(Image.Bottom_Hat_Filter(Image.BinImage), cmap='gray', vmin=0, vmax=255)"
   ]
  }
 ],
 "metadata": {
  "kernelspec": {
   "display_name": "myenv",
   "language": "python",
   "name": "python3"
  },
  "language_info": {
   "codemirror_mode": {
    "name": "ipython",
    "version": 3
   },
   "file_extension": ".py",
   "mimetype": "text/x-python",
   "name": "python",
   "nbconvert_exporter": "python",
   "pygments_lexer": "ipython3",
   "version": "3.10.13"
  }
 },
 "nbformat": 4,
 "nbformat_minor": 2
}
