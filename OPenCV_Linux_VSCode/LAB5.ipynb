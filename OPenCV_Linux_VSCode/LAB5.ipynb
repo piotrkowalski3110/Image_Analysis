{
 "cells": [
  {
   "cell_type": "code",
   "execution_count": 7,
   "metadata": {
    "ExecuteTime": {
     "end_time": "2023-12-11T15:33:44.166780609Z",
     "start_time": "2023-12-11T15:33:44.124397237Z"
    }
   },
   "outputs": [],
   "source": [
    "import cv2 as cv\n",
    "import numpy as np\n",
    "import matplotlib.pyplot as plt"
   ]
  },
  {
   "cell_type": "code",
   "execution_count": 8,
   "metadata": {
    "ExecuteTime": {
     "end_time": "2023-12-11T15:33:44.167069640Z",
     "start_time": "2023-12-11T15:33:44.166644587Z"
    }
   },
   "outputs": [],
   "source": [
    "class GLCM:\n",
    "\n",
    "    def __init__(self, srcImage):\n",
    "        self.BaseImage = np.uint8(srcImage)\n",
    "        self.rgbImage = cv.cvtColor(self.BaseImage, cv.COLOR_BGR2RGB)\n",
    "        self.xyzImage = cv.cvtColor(self.BaseImage, cv.COLOR_BGR2XYZ)\n",
    "        self.labImage = cv.cvtColor(self.BaseImage, cv.COLOR_BGR2LAB)\n",
    "        self.hlsImage = cv.cvtColor(self.BaseImage, cv.COLOR_BGR2HLS)\n",
    "        self.hsvImage = cv.cvtColor(self.BaseImage, cv.COLOR_BGR2HSV)\n",
    "\n",
    "        self.rgbGray = cv.cvtColor(self.rgbImage, cv.COLOR_RGB2GRAY)\n",
    "        self.xyzGray = self.BaseImage[:, :, 1]\n",
    "        self.labGray = self.BaseImage[:, :, 0]\n",
    "        self.hlsGray = self.BaseImage[:, :, 1]\n",
    "        self.hsvGray = self.BaseImage[:, :, 2]\n",
    "\n",
    "    def GLCM_horizontal(self, src):\n",
    "        Operator = src.copy()\n",
    "        GLCM_HorRight = np.zeros((256, 256))\n",
    "        GLCM_HorLeft = np.zeros((256, 256))\n",
    "        GLCM_HorSym = np.zeros((256, 256))\n",
    "        h, w = Operator.shape\n",
    "\n",
    "        for i in range(h):\n",
    "            for j in range(w - 1):\n",
    "                get_px = np.array([Operator[i, j], Operator[i, j + 1]])\n",
    "                GLCM_HorRight[get_px[0], get_px[1]] += 1\n",
    "\n",
    "        GLCM_HorLeft = np.matrix.transpose(GLCM_HorRight)\n",
    "        GLCM_HorSym = GLCM_HorRight + GLCM_HorLeft\n",
    "\n",
    "        return GLCM_HorRight, GLCM_HorLeft, GLCM_HorSym\n",
    "\n",
    "    def GLCM_vertical(self, src):\n",
    "        Operator = src.copy()\n",
    "        GLCM_VertDown = np.zeros((256, 256))\n",
    "        GLCM_VertUp = np.zeros((256, 256))\n",
    "        GLCM_VertSym = np.zeros((256, 256))\n",
    "        h, w = Operator.shape\n",
    "\n",
    "        for i in range(h-1):\n",
    "            for j in range(w):\n",
    "                get_px = np.array([Operator[i, j], Operator[i + 1, j]])\n",
    "                GLCM_VertDown[get_px[0], get_px[1]] += 1\n",
    "\n",
    "        GLCM_VertUp = np.matrix.transpose(GLCM_VertDown)\n",
    "        GLCM_VertSym = GLCM_VertDown + GLCM_VertDown\n",
    "\n",
    "        return GLCM_VertDown, GLCM_VertUp, GLCM_VertSym\n",
    "\n",
    "    def GLCM_diagonal(self, src):\n",
    "        Operator = src.copy()\n",
    "        GLCM_DiagonalRight = np.zeros((256, 256))\n",
    "        GLCM_DiagonalLeft = np.zeros((256, 256))\n",
    "        GLCM_DiagonalSym = np.zeros((256, 256))\n",
    "        h, w = Operator.shape\n",
    "\n",
    "        for i in range(h-1):\n",
    "            for j in range(w-1):\n",
    "                get_px = np.array([Operator[i,j], Operator[i+1, j+1]])\n",
    "                GLCM_DiagonalRight[get_px[0], get_px[1]] += 1\n",
    "\n",
    "        GLCM_DiagonalLeft = np.matrix.transpose(GLCM_DiagonalRight)\n",
    "        GLCM_DiagonalSym = GLCM_DiagonalRight + GLCM_DiagonalLeft\n",
    "\n",
    "        return GLCM_DiagonalRight, GLCM_DiagonalLeft, GLCM_DiagonalSym"
   ]
  },
  {
   "cell_type": "code",
   "execution_count": 9,
   "metadata": {
    "ExecuteTime": {
     "end_time": "2023-12-11T15:33:44.167274874Z",
     "start_time": "2023-12-11T15:33:44.166810209Z"
    }
   },
   "outputs": [],
   "source": [
    "Texture1 = GLCM(cv.imread(\"./Textures/T17.bmp\"))\n",
    "Texture2 = GLCM(cv.imread(\"./Textures/T24.bmp\"))\n",
    "Texture3 = GLCM(cv.imread(\"./Textures/T30.bmp\"))\n",
    "\n",
    "(VerticalDown, VerticalUp) = Texture1.GLCM_vertical(Texture1.rgbGray)"
   ]
  }
 ],
 "metadata": {
  "interpreter": {
   "hash": "9732f6cf80aecb62b251efa40d50f392e549b6ee8700ff1769ce998f3abda1bd"
  },
  "kernelspec": {
   "display_name": "Python 3 (ipykernel)",
   "language": "python",
   "name": "python3"
  },
  "language_info": {
   "codemirror_mode": {
    "name": "ipython",
    "version": 3
   },
   "file_extension": ".py",
   "mimetype": "text/x-python",
   "name": "python",
   "nbconvert_exporter": "python",
   "pygments_lexer": "ipython3",
   "version": "3.10.13"
  }
 },
 "nbformat": 4,
 "nbformat_minor": 4
}
