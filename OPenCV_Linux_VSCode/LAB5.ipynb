{
 "cells": [
  {
   "cell_type": "code",
   "execution_count": 239,
   "metadata": {
    "ExecuteTime": {
     "end_time": "2023-12-11T15:33:44.166780609Z",
     "start_time": "2023-12-11T15:33:44.124397237Z"
    }
   },
   "outputs": [],
   "source": [
    "import cv2 as cv\n",
    "import numpy as np\n",
    "import matplotlib.pyplot as plt\n",
    "import statistics\n",
    "import pandas as pd"
   ]
  },
  {
   "cell_type": "code",
   "execution_count": 240,
   "metadata": {
    "ExecuteTime": {
     "end_time": "2023-12-11T15:33:44.167069640Z",
     "start_time": "2023-12-11T15:33:44.166644587Z"
    }
   },
   "outputs": [],
   "source": [
    "class GLCM:\n",
    "\n",
    "    def __init__(self, srcImage):\n",
    "        self.BaseImage = np.uint8(srcImage)\n",
    "        self.rgbImage = cv.cvtColor(self.BaseImage, cv.COLOR_BGR2RGB)\n",
    "        self.xyzImage = cv.cvtColor(self.BaseImage, cv.COLOR_BGR2XYZ)\n",
    "        self.labImage = cv.cvtColor(self.BaseImage, cv.COLOR_BGR2LAB)\n",
    "        self.hlsImage = cv.cvtColor(self.BaseImage, cv.COLOR_BGR2HLS)\n",
    "        self.hsvImage = cv.cvtColor(self.BaseImage, cv.COLOR_BGR2HSV)\n",
    "\n",
    "        self.rgbGray = cv.cvtColor(self.rgbImage, cv.COLOR_RGB2GRAY)\n",
    "        self.xyzGray = self.BaseImage[:, :, 1]\n",
    "        self.labGray = self.BaseImage[:, :, 0]\n",
    "        self.hlsGray = self.BaseImage[:, :, 1]\n",
    "        self.hsvGray = self.BaseImage[:, :, 2]\n",
    "\n",
    "    def GLCM_horizontal(self, src):\n",
    "        Operator = src.copy()\n",
    "        GLCM_HorRight = np.zeros((256, 256))\n",
    "        h, w = Operator.shape\n",
    "\n",
    "        for i in range(h):\n",
    "            for j in range(w - 1):\n",
    "                get_px = np.array([Operator[i, j], Operator[i, j + 1]])\n",
    "                GLCM_HorRight[get_px[0], get_px[1]] += 1\n",
    "\n",
    "        GLCM_HorLeft = np.matrix.transpose(GLCM_HorRight)\n",
    "        GLCM_HorSym = GLCM_HorRight + GLCM_HorLeft\n",
    "        return GLCM_HorRight, GLCM_HorLeft, GLCM_HorSym\n",
    "\n",
    "    def GLCM_vertical(self, src):\n",
    "        Operator = src.copy()\n",
    "        GLCM_VertDown = np.zeros((256, 256))\n",
    "        h, w = Operator.shape\n",
    "\n",
    "        for i in range(h-1):\n",
    "            for j in range(w):\n",
    "                get_px = np.array([Operator[i, j], Operator[i + 1, j]])\n",
    "                GLCM_VertDown[get_px[0], get_px[1]] += 1\n",
    "\n",
    "        GLCM_VertUp = np.matrix.transpose(GLCM_VertDown)\n",
    "        GLCM_VertSym = GLCM_VertDown + GLCM_VertDown\n",
    "        return GLCM_VertDown, GLCM_VertUp, GLCM_VertSym\n",
    "\n",
    "    def GLCM_diagonal_LeftToRight_Reverse(self, src):\n",
    "        Operator = src.copy()\n",
    "        GLCM_PrimTop_SecDown = np.zeros((256, 256))\n",
    "        h, w = Operator.shape\n",
    "\n",
    "        for i in range(h-1):\n",
    "            for j in range(w-1):\n",
    "                get_px = np.array([Operator[i,j], Operator[i+1, j+1]])\n",
    "                GLCM_PrimTop_SecDown[get_px[0], get_px[1]] += 1\n",
    "\n",
    "        GLCM_PrimDown_SecTop = np.matrix.transpose(GLCM_PrimTop_SecDown)\n",
    "        GLCM_LeftToRight_Symetric = GLCM_PrimTop_SecDown + GLCM_PrimDown_SecTop\n",
    "        return GLCM_PrimTop_SecDown, GLCM_PrimDown_SecTop, GLCM_LeftToRight_Symetric\n",
    "    \n",
    "    def GLCM_diagonal_RightToLeft_Reverse(self, src):\n",
    "        Operator = src.copy()\n",
    "        GLCM_PrimTop_SecDown = np.zeros((256, 256))\n",
    "        h, w = Operator.shape\n",
    "\n",
    "        for i in range(h-1):\n",
    "            for j in range(1, w):\n",
    "                get_px = np.array([Operator[i,j], Operator[i+1, j-1]])\n",
    "                GLCM_PrimTop_SecDown[get_px[0], get_px[1]] += 1\n",
    "\n",
    "        GLCM_PrimDown_SecTop = np.matrix.transpose(GLCM_PrimTop_SecDown)\n",
    "        GLCM_RightToLeft_Symetric = GLCM_PrimTop_SecDown + GLCM_PrimDown_SecTop\n",
    "        return GLCM_PrimTop_SecDown, GLCM_PrimDown_SecTop, GLCM_RightToLeft_Symetric\n"
   ]
  },
  {
   "cell_type": "code",
   "execution_count": 241,
   "metadata": {
    "ExecuteTime": {
     "end_time": "2023-12-11T15:33:44.167274874Z",
     "start_time": "2023-12-11T15:33:44.166810209Z"
    }
   },
   "outputs": [],
   "source": [
    "def NormalisedGLCM(GLCM):\n",
    "    SumOfGLCM = np.sum(GLCM)\n",
    "    Normalised = np.divide(GLCM, SumOfGLCM)\n",
    "    return Normalised\n",
    "\n",
    "def AngScMom(GLCM):\n",
    "    PowerOfMatrix = np.power(GLCM, 2)\n",
    "    SumOfMatrix = np.sum(PowerOfMatrix)\n",
    "    return SumOfMatrix\n",
    "\n",
    "def Contrast(GLCM):\n",
    "    ContrastSum = 0\n",
    "    for a in range(256):\n",
    "        for b in range(256):\n",
    "            ContrastSum += (np.power((a-b),2) * GLCM[a,b])\n",
    "    return ContrastSum\n",
    "\n",
    "def Homogenity(GLCM):\n",
    "    HomogenitySum = 0\n",
    "    for a in range(256):\n",
    "        for b in range(256):\n",
    "            HomogenitySum += (GLCM[a, b] / (1 + np.power((a-b), 2)))\n",
    "    return HomogenitySum\n",
    "\n",
    "def Correlation(GLCM):\n",
    "    CorrelationSum = 0\n",
    "    for a in range(256):\n",
    "        for b in range(256):\n",
    "            u = np.average(GLCM)\n",
    "            o = np.std(GLCM)\n",
    "            CorrelationSum += (((a-u)*(b-u))/(np.power(o,2)))*GLCM[a,b]\n",
    "    CorrelationResult = (-1) * CorrelationSum\n",
    "    return CorrelationResult\n",
    "\n",
    "def Variance(GLCM):\n",
    "    VarianceSum = 0\n",
    "    u = np.average(GLCM)\n",
    "    for a in range(256):\n",
    "        for b in range(256):\n",
    "            VarianceSum += np.power((a-u),2)*GLCM[a,b]\n",
    "    return VarianceSum\n",
    "\n",
    "def Entropy(GLCM):\n",
    "    EntropySum = 0\n",
    "    for a in range(256):\n",
    "        for b in range(256):\n",
    "            if(GLCM[a, b] != 0):\n",
    "                EntropySum += (GLCM[a, b] * np.log10(GLCM[a, b]))\n",
    "    EntropyResult = ((-1) * EntropySum)\n",
    "    return EntropyResult"
   ]
  },
  {
   "cell_type": "code",
   "execution_count": 242,
   "metadata": {},
   "outputs": [],
   "source": [
    "Texture1 = GLCM(cv.imread(\"./Textures/T17.bmp\"))\n",
    "Texture2 = GLCM(cv.imread(\"./Textures/T24.bmp\"))\n",
    "Texture3 = GLCM(cv.imread(\"./Textures/T30.bmp\"))\n",
    "\n",
    "Base = Texture1.GLCM_horizontal(Texture1.rgbGray)[2]\n",
    "NormaliseBase = NormalisedGLCM(Base)\n",
    "Result = Variance(NormaliseBase)\n",
    "Res2 = Entropy(NormaliseBase)\n",
    "Res3 = 0\n",
    "Res4 = 0\n",
    "Res5 = 0\n",
    "Res6 = 0"
   ]
  }
 ],
 "metadata": {
  "interpreter": {
   "hash": "9732f6cf80aecb62b251efa40d50f392e549b6ee8700ff1769ce998f3abda1bd"
  },
  "kernelspec": {
   "display_name": "Python 3 (ipykernel)",
   "language": "python",
   "name": "python3"
  },
  "language_info": {
   "codemirror_mode": {
    "name": "ipython",
    "version": 3
   },
   "file_extension": ".py",
   "mimetype": "text/x-python",
   "name": "python",
   "nbconvert_exporter": "python",
   "pygments_lexer": "ipython3",
   "version": "3.10.13"
  }
 },
 "nbformat": 4,
 "nbformat_minor": 4
}
