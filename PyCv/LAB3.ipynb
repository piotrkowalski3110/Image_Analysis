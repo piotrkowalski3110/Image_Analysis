{
 "cells": [
  {
   "cell_type": "code",
   "execution_count": 34,
   "id": "initial_id",
   "metadata": {
    "collapsed": true,
    "ExecuteTime": {
     "end_time": "2023-11-14T18:11:34.063414200Z",
     "start_time": "2023-11-14T18:11:34.043554700Z"
    }
   },
   "outputs": [],
   "source": [
    "import cv2\n",
    "import numpy as np\n",
    "import matplotlib.pyplot as plt"
   ]
  },
  {
   "cell_type": "markdown",
   "source": [
    "# LAB 3 - Ekstrakcja podstawowych parametrów geometrycznych na obrazach binarnych"
   ],
   "metadata": {
    "collapsed": false
   },
   "id": "7fb102f9787831b9"
  },
  {
   "cell_type": "code",
   "execution_count": 35,
   "outputs": [],
   "source": [
    "class ImagesToAnalyse:\n",
    "    def __init__(self, imSrc):\n",
    "        self.sourceImage = imSrc\n",
    "        self.grayImage = self.makeImageGray()\n",
    "        self.binImage = self.makeImageBin()\n",
    "        self.EdgeClear = self.clear(self.binImage)\n",
    "        self.ObjectFill = self.fill(self.binImage)\n",
    "\n",
    "    def makeImageGray(self):\n",
    "        return cv2.cvtColor(self.sourceImage, cv2.COLOR_BGR2GRAY)\n",
    "\n",
    "    def makeImageBin(self):\n",
    "        (tmp_thresh, tmp_bin) = cv2.threshold(self.grayImage, 0, 255, cv2.THRESH_BINARY | cv2.THRESH_OTSU)\n",
    "        return tmp_bin\n",
    "\n",
    "    def bwlabel(self, srcImage):\n",
    "        wb_nlbls, wb_lbsl, wb_stats, _ = cv2.connectedComponentsWithStats(srcImage)\n",
    "        return wb_nlbls - 1\n",
    "\n",
    "    def fill(self, srcImage):\n",
    "        negateImg = np.invert(srcImage)\n",
    "        clearedInv = self.clear(negateImg)\n",
    "        filledResult = cv2.bitwise_or(srcImage, clearedInv)\n",
    "        return filledResult\n",
    "\n",
    "    def clear(self, srcImage):\n",
    "        kernel = np.ones((3, 3), np.uint8)\n",
    "        base = srcImage.copy()\n",
    "        [dx, dy] = base.shape\n",
    "        operator = base.copy()\n",
    "        operator[1:dx - 1, 1:dy - 1] = 0\n",
    "\n",
    "        while True:\n",
    "            oldOperator = operator.copy()\n",
    "            operator = cv2.dilate(operator, kernel, iterations=1)\n",
    "            operator = cv2.bitwise_and(operator, base)\n",
    "\n",
    "            if (np.array_equal(operator, oldOperator)):\n",
    "                result = operator\n",
    "                break\n",
    "\n",
    "        cleared = cv2.bitwise_xor(result, srcImage)\n",
    "        return cleared"
   ],
   "metadata": {
    "collapsed": false,
    "ExecuteTime": {
     "end_time": "2023-11-14T18:11:34.075422100Z",
     "start_time": "2023-11-14T18:11:34.053642600Z"
    }
   },
   "id": "64adc64402a29f08"
  },
  {
   "cell_type": "code",
   "execution_count": 36,
   "outputs": [],
   "source": [
    "SourceImage = ImagesToAnalyse(cv2.imread(\"./SRC2.bmp\"))"
   ],
   "metadata": {
    "collapsed": false,
    "ExecuteTime": {
     "end_time": "2023-11-14T18:11:34.134805900Z",
     "start_time": "2023-11-14T18:11:34.060421200Z"
    }
   },
   "id": "d1a1f856178af503"
  }
 ],
 "metadata": {
  "kernelspec": {
   "display_name": "Python 3",
   "language": "python",
   "name": "python3"
  },
  "language_info": {
   "codemirror_mode": {
    "name": "ipython",
    "version": 2
   },
   "file_extension": ".py",
   "mimetype": "text/x-python",
   "name": "python",
   "nbconvert_exporter": "python",
   "pygments_lexer": "ipython2",
   "version": "2.7.6"
  }
 },
 "nbformat": 4,
 "nbformat_minor": 5
}
