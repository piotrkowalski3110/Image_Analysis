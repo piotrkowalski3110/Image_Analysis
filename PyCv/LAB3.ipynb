{
 "cells": [
  {
   "cell_type": "code",
   "execution_count": 114,
   "id": "initial_id",
   "metadata": {
    "collapsed": true,
    "ExecuteTime": {
     "end_time": "2023-11-24T08:22:46.752375400Z",
     "start_time": "2023-11-24T08:22:46.737668600Z"
    }
   },
   "outputs": [],
   "source": [
    "import cv2\n",
    "import numpy as np\n",
    "import matplotlib.pyplot as plt"
   ]
  },
  {
   "cell_type": "markdown",
   "source": [
    "# LAB 3 - Ekstrakcja podstawowych parametrów geometrycznych na obrazach binarnych"
   ],
   "metadata": {
    "collapsed": false
   },
   "id": "7fb102f9787831b9"
  },
  {
   "cell_type": "code",
   "execution_count": 115,
   "outputs": [],
   "source": [
    "class ImagesToAnalyse:\n",
    "    def __init__(self, imSrc):\n",
    "        self.sourceImage = imSrc\n",
    "        self.grayImage = self.makeImageGray()\n",
    "        self.binImage = self.makeImageBin()\n",
    "        self.EdgeClear = self.clear(self.binImage)\n",
    "        self.ObjectFill = self.fill(self.binImage)\n",
    "        (self.numberOfElements, self.labeledArray) = self.bwlabel(self.binImage)\n",
    "\n",
    "    def makeImageGray(self):\n",
    "        return cv2.cvtColor(self.sourceImage, cv2.COLOR_BGR2GRAY)\n",
    "\n",
    "    def makeImageBin(self):\n",
    "        (tmp_thresh, tmp_bin) = cv2.threshold(self.grayImage, 0, 255, cv2.THRESH_BINARY | cv2.THRESH_OTSU)\n",
    "        return tmp_bin\n",
    "    \n",
    "    def areaOfObject(self, objectToCalc):\n",
    "        return np.count_nonzero(objectToCalc == 1)\n",
    "\n",
    "    def bwlabel(self, srcImage):\n",
    "        (numLabels, labels, stats, centroids) = cv2.connectedComponentsWithStats(srcImage)\n",
    "        #numLabels to liczba obiektów + tło\n",
    "        #labels to macierz indeksów obrazów\n",
    "        #stats ?\n",
    "        #centroids to środki ciężkości obiektów\n",
    "        return numLabels, labels\n",
    "\n",
    "    def getElementWithId(self, IDofEL):\n",
    "        return (self.labeledArray == IDofEL)*1\n",
    "\n",
    "    def fill(self, srcImage):\n",
    "        negateImg = np.invert(srcImage)\n",
    "        clearedInv = self.clear(negateImg)\n",
    "        filledResult = cv2.bitwise_or(srcImage, clearedInv)\n",
    "        return filledResult\n",
    "\n",
    "    def clear(self, srcImage):\n",
    "        kernel = np.ones((3, 3), np.uint8)\n",
    "        base = srcImage.copy()\n",
    "        [dx, dy] = base.shape\n",
    "        operator = base.copy()\n",
    "        operator[1:dx - 1, 1:dy - 1] = 0\n",
    "\n",
    "        while True:\n",
    "            oldOperator = operator.copy()\n",
    "            operator = cv2.dilate(operator, kernel, iterations=1)\n",
    "            operator = cv2.bitwise_and(operator, base)\n",
    "\n",
    "            if (np.array_equal(operator, oldOperator)):\n",
    "                result = operator\n",
    "                break\n",
    "\n",
    "        cleared = cv2.bitwise_xor(result, srcImage)\n",
    "        return cleared"
   ],
   "metadata": {
    "collapsed": false,
    "ExecuteTime": {
     "end_time": "2023-11-24T08:22:46.789239500Z",
     "start_time": "2023-11-24T08:22:46.748942500Z"
    }
   },
   "id": "64adc64402a29f08"
  },
  {
   "cell_type": "code",
   "execution_count": 116,
   "outputs": [
    {
     "name": "stdout",
     "output_type": "stream",
     "text": [
      "Pole = 3259\n"
     ]
    },
    {
     "data": {
      "text/plain": "<Figure size 640x480 with 1 Axes>",
      "image/png": "[encoded data removed]"
     },
     "metadata": {},
     "output_type": "display_data"
    }
   ],
   "source": [
    "def zapisz_tablice_do_pliku(tablica, nazwa_pliku):\n",
    "    with open(nazwa_pliku, \"w\") as plik:\n",
    "        for wiersz in tablica:\n",
    "            plik.write(\" \".join(str(elem) for elem in wiersz) + \"\\n\")\n",
    "\n",
    "\n",
    "SourceImage = ImagesToAnalyse(cv2.imread(\"./SRC2.bmp\"))\n",
    "zapisz_tablice_do_pliku(SourceImage.getElementWithId(2), \"tablica.txt\")\n",
    "plt.imshow(SourceImage.getElementWithId(2), cmap='gray', vmin=0, vmax=1)\n",
    "print(\"Pole = \" + str(SourceImage.areaOfObject(SourceImage.getElementWithId(2))))"
   ],
   "metadata": {
    "collapsed": false,
    "ExecuteTime": {
     "end_time": "2023-11-24T08:22:47.173742700Z",
     "start_time": "2023-11-24T08:22:46.791324700Z"
    }
   },
   "id": "d1a1f856178af503"
  }
 ],
 "metadata": {
  "kernelspec": {
   "display_name": "Python 3",
   "language": "python",
   "name": "python3"
  },
  "language_info": {
   "codemirror_mode": {
    "name": "ipython",
    "version": 2
   },
   "file_extension": ".py",
   "mimetype": "text/x-python",
   "name": "python",
   "nbconvert_exporter": "python",
   "pygments_lexer": "ipython2",
   "version": "2.7.6"
  }
 },
 "nbformat": 4,
 "nbformat_minor": 5
}
