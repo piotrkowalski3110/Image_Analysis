{
 "cells": [
  {
   "cell_type": "code",
   "execution_count": 1,
   "id": "initial_id",
   "metadata": {
    "collapsed": true,
    "ExecuteTime": {
     "end_time": "2023-12-04T13:40:26.732236300Z",
     "start_time": "2023-12-04T13:40:26.137085500Z"
    }
   },
   "outputs": [],
   "source": [
    "import cv2\n",
    "import numpy as np\n",
    "import matplotlib.pyplot as plt"
   ]
  },
  {
   "cell_type": "markdown",
   "source": [
    "# LAB 3 - Ekstrakcja podstawowych parametrów geometrycznych na obrazach binarnych"
   ],
   "metadata": {
    "collapsed": false
   },
   "id": "7fb102f9787831b9"
  },
  {
   "cell_type": "code",
   "execution_count": 2,
   "outputs": [],
   "source": [
    "class ImagesToAnalyse:\n",
    "    def __init__(self, imSrc):\n",
    "        self.sourceImage = imSrc\n",
    "        self.grayImage = self.makeImageGray()\n",
    "        self.binImage = self.makeImageBin()\n",
    "        self.EdgeClear = self.clear(self.binImage)\n",
    "        self.ObjectFill = self.fill(self.EdgeClear)\n",
    "        (self.numberOfElements, self.labeledArray) = self.bwlabel()\n",
    "\n",
    "    def makeImageGray(self):\n",
    "        return cv2.cvtColor(self.sourceImage, cv2.COLOR_BGR2GRAY)\n",
    "\n",
    "    def makeImageBin(self):\n",
    "        (tmp_thresh, tmp_bin) = cv2.threshold(self.grayImage, 0, 255, cv2.THRESH_BINARY | cv2.THRESH_OTSU)\n",
    "        return tmp_bin\n",
    "\n",
    "    def areaOfObject(self, objectToCalc):\n",
    "        return np.count_nonzero(objectToCalc == 255)\n",
    "\n",
    "    def bwlabel(self):\n",
    "        srcImage = self.EdgeClear  # operujemy na pełnych obiektach a nie uciętych\n",
    "        (numLabels, labels, stats, centroids) = cv2.connectedComponentsWithStats(srcImage)\n",
    "        return numLabels, labels\n",
    "        #(liczba obiektów, macierz indeksów, stats?, środki ciężkości)\n",
    "        \n",
    "    def getElementWithId(self, IDofEL):\n",
    "        return (self.labeledArray == IDofEL) * 255\n",
    "\n",
    "    def fill(self, srcImage):\n",
    "        negateImg = np.invert(srcImage)\n",
    "        clearedInv = self.clear(negateImg)\n",
    "        filledResult = cv2.bitwise_or(srcImage, clearedInv)\n",
    "        return filledResult\n",
    "\n",
    "    def clear(self, srcImage):\n",
    "        kernel = np.ones((3, 3), np.uint8)\n",
    "        base = srcImage.copy()\n",
    "        [dx, dy] = base.shape\n",
    "        operator = base.copy()\n",
    "        operator[1:dx - 1, 1:dy - 1] = 0\n",
    "\n",
    "        while True:\n",
    "            oldOperator = operator.copy()\n",
    "            operator = cv2.dilate(operator, kernel, iterations=1)\n",
    "            operator = cv2.bitwise_and(operator, base)\n",
    "\n",
    "            if (np.array_equal(operator, oldOperator)):\n",
    "                result = operator\n",
    "                break\n",
    "\n",
    "        cleared = cv2.bitwise_xor(result, srcImage)\n",
    "        return cleared"
   ],
   "metadata": {
    "collapsed": false,
    "ExecuteTime": {
     "end_time": "2023-12-04T13:40:26.744366200Z",
     "start_time": "2023-12-04T13:40:26.734273400Z"
    }
   },
   "id": "64adc64402a29f08"
  },
  {
   "cell_type": "code",
   "execution_count": 3,
   "outputs": [
    {
     "name": "stdout",
     "output_type": "stream",
     "text": [
      "Pole = 6630\n"
     ]
    },
    {
     "ename": "ValueError",
     "evalue": "matmul: Input operand 1 has a mismatch in its core dimension 0, with gufunc signature (n?,k),(k,m?)->(n?,m?) (size 50 is different from 247)",
     "output_type": "error",
     "traceback": [
      "\u001B[1;31m---------------------------------------------------------------------------\u001B[0m",
      "\u001B[1;31mValueError\u001B[0m                                Traceback (most recent call last)",
      "Cell \u001B[1;32mIn[3], line 11\u001B[0m\n\u001B[0;32m      9\u001B[0m plt\u001B[38;5;241m.\u001B[39mimshow(SourceImage\u001B[38;5;241m.\u001B[39mgetElementWithId(\u001B[38;5;241m1\u001B[39m), cmap\u001B[38;5;241m=\u001B[39m\u001B[38;5;124m'\u001B[39m\u001B[38;5;124mgray\u001B[39m\u001B[38;5;124m'\u001B[39m, vmin\u001B[38;5;241m=\u001B[39m\u001B[38;5;241m0\u001B[39m, vmax\u001B[38;5;241m=\u001B[39m\u001B[38;5;241m255\u001B[39m)\n\u001B[0;32m     10\u001B[0m \u001B[38;5;28mprint\u001B[39m(\u001B[38;5;124m\"\u001B[39m\u001B[38;5;124mPole = \u001B[39m\u001B[38;5;124m\"\u001B[39m \u001B[38;5;241m+\u001B[39m \u001B[38;5;28mstr\u001B[39m(SourceImage\u001B[38;5;241m.\u001B[39mareaOfObject(SourceImage\u001B[38;5;241m.\u001B[39mgetElementWithId(\u001B[38;5;241m1\u001B[39m))))\n\u001B[1;32m---> 11\u001B[0m \u001B[38;5;28mprint\u001B[39m(\u001B[43mperimeter\u001B[49m\u001B[43m(\u001B[49m\u001B[43mSourceImage\u001B[49m\u001B[38;5;241;43m.\u001B[39;49m\u001B[43mbinImage\u001B[49m\u001B[43m,\u001B[49m\u001B[43m \u001B[49m\u001B[43mneighborhood\u001B[49m\u001B[38;5;241;43m=\u001B[39;49m\u001B[38;5;241;43m8\u001B[39;49m\u001B[43m)\u001B[49m)\n",
      "File \u001B[1;32mD:\\01 - Uczelnia\\02 - Analiza obrazów\\PyCv\\venv\\Lib\\site-packages\\skimage\\measure\\_regionprops_utils.py:249\u001B[0m, in \u001B[0;36mperimeter\u001B[1;34m(image, neighborhood)\u001B[0m\n\u001B[0;32m    244\u001B[0m \u001B[38;5;66;03m# You can also write\u001B[39;00m\n\u001B[0;32m    245\u001B[0m \u001B[38;5;66;03m# return perimeter_weights[perimeter_image].sum()\u001B[39;00m\n\u001B[0;32m    246\u001B[0m \u001B[38;5;66;03m# but that was measured as taking much longer than bincount + np.dot (5x\u001B[39;00m\n\u001B[0;32m    247\u001B[0m \u001B[38;5;66;03m# as much time)\u001B[39;00m\n\u001B[0;32m    248\u001B[0m perimeter_histogram \u001B[38;5;241m=\u001B[39m np\u001B[38;5;241m.\u001B[39mbincount(perimeter_image\u001B[38;5;241m.\u001B[39mravel(), minlength\u001B[38;5;241m=\u001B[39m\u001B[38;5;241m50\u001B[39m)\n\u001B[1;32m--> 249\u001B[0m total_perimeter \u001B[38;5;241m=\u001B[39m \u001B[43mperimeter_histogram\u001B[49m\u001B[43m \u001B[49m\u001B[38;5;241;43m@\u001B[39;49m\u001B[43m \u001B[49m\u001B[43mperimeter_weights\u001B[49m\n\u001B[0;32m    250\u001B[0m \u001B[38;5;28;01mreturn\u001B[39;00m total_perimeter\n",
      "\u001B[1;31mValueError\u001B[0m: matmul: Input operand 1 has a mismatch in its core dimension 0, with gufunc signature (n?,k),(k,m?)->(n?,m?) (size 50 is different from 247)"
     ]
    },
    {
     "data": {
      "text/plain": "<Figure size 640x480 with 1 Axes>",
      "image/png": "[encoded data removed]"
     },
     "metadata": {},
     "output_type": "display_data"
    }
   ],
   "source": [
    "def zapisz_tablice_do_pliku(tablica, nazwa_pliku):\n",
    "    with open(nazwa_pliku, \"w\") as plik:\n",
    "        for wiersz in tablica:\n",
    "            plik.write(\" \".join(str(elem) for elem in wiersz) + \"\\n\")\n",
    "\n",
    "\n",
    "SourceImage = ImagesToAnalyse(cv2.imread(\"./SRC2.bmp\"))\n",
    "#zapisz_tablice_do_pliku(SourceImage.getElementWithId(3), \"tablica.txt\")\n",
    "plt.imshow(SourceImage.getElementWithId(1), cmap='gray', vmin=0, vmax=255)\n",
    "print(\"Pole = \" + str(SourceImage.areaOfObject(SourceImage.getElementWithId(1))))"
   ],
   "metadata": {
    "collapsed": false,
    "ExecuteTime": {
     "end_time": "2023-12-04T13:40:27.327122300Z",
     "start_time": "2023-12-04T13:40:26.748365500Z"
    }
   },
   "id": "d1a1f856178af503"
  }
 ],
 "metadata": {
  "kernelspec": {
   "display_name": "Python 3",
   "language": "python",
   "name": "python3"
  },
  "language_info": {
   "codemirror_mode": {
    "name": "ipython",
    "version": 2
   },
   "file_extension": ".py",
   "mimetype": "text/x-python",
   "name": "python",
   "nbconvert_exporter": "python",
   "pygments_lexer": "ipython2",
   "version": "2.7.6"
  }
 },
 "nbformat": 4,
 "nbformat_minor": 5
}
