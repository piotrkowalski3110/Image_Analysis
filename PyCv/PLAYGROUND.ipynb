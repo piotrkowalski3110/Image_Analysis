{
 "cells": [
  {
   "cell_type": "code",
   "execution_count": 11,
   "id": "initial_id",
   "metadata": {
    "collapsed": true,
    "ExecuteTime": {
     "end_time": "2023-12-04T13:39:19.647422800Z",
     "start_time": "2023-12-04T13:39:19.576317900Z"
    }
   },
   "outputs": [],
   "source": [
    "import cv2\n",
    "import numpy as np\n",
    "import matplotlib.pyplot as plt"
   ]
  },
  {
   "cell_type": "code",
   "execution_count": 12,
   "outputs": [
    {
     "name": "stdout",
     "output_type": "stream",
     "text": [
      "Jaki powinien wyjsc obwod: 12 + 3 pierwiastki z 2 czyli 16,24264068711929\n"
     ]
    },
    {
     "ename": "NotImplementedError",
     "evalue": "`perimeter` supports 2D images only",
     "output_type": "error",
     "traceback": [
      "\u001B[1;31m---------------------------------------------------------------------------\u001B[0m",
      "\u001B[1;31mNotImplementedError\u001B[0m                       Traceback (most recent call last)",
      "Cell \u001B[1;32mIn[12], line 13\u001B[0m\n\u001B[0;32m     10\u001B[0m dwa \u001B[38;5;241m=\u001B[39m cv2\u001B[38;5;241m.\u001B[39mimread(\u001B[38;5;124m\"\u001B[39m\u001B[38;5;124m./SRC.bmp\u001B[39m\u001B[38;5;124m\"\u001B[39m)\n\u001B[0;32m     12\u001B[0m \u001B[38;5;28mprint\u001B[39m(\u001B[38;5;124m\"\u001B[39m\u001B[38;5;124mJaki powinien wyjsc obwod: 12 + 3 pierwiastki z 2 czyli 16,24264068711929\u001B[39m\u001B[38;5;124m\"\u001B[39m)\n\u001B[1;32m---> 13\u001B[0m \u001B[38;5;28mprint\u001B[39m(\u001B[43mperimeter\u001B[49m\u001B[43m(\u001B[49m\u001B[43mdwa\u001B[49m\u001B[43m,\u001B[49m\u001B[43m \u001B[49m\u001B[43mneighborhood\u001B[49m\u001B[38;5;241;43m=\u001B[39;49m\u001B[38;5;241;43m8\u001B[39;49m\u001B[43m)\u001B[49m)\n\u001B[0;32m     14\u001B[0m plt\u001B[38;5;241m.\u001B[39mimshow(all_arrays, cmap\u001B[38;5;241m=\u001B[39m\u001B[38;5;124m'\u001B[39m\u001B[38;5;124mgray\u001B[39m\u001B[38;5;124m'\u001B[39m, vmin\u001B[38;5;241m=\u001B[39m\u001B[38;5;241m0\u001B[39m, vmax\u001B[38;5;241m=\u001B[39m\u001B[38;5;241m255\u001B[39m)\n",
      "File \u001B[1;32mD:\\01 - Uczelnia\\02 - Analiza obrazów\\PyCv\\venv\\Lib\\site-packages\\skimage\\measure\\_regionprops_utils.py:224\u001B[0m, in \u001B[0;36mperimeter\u001B[1;34m(image, neighborhood)\u001B[0m\n\u001B[0;32m    188\u001B[0m \u001B[38;5;250m\u001B[39m\u001B[38;5;124;03m\"\"\"Calculate total perimeter of all objects in binary image.\u001B[39;00m\n\u001B[0;32m    189\u001B[0m \n\u001B[0;32m    190\u001B[0m \u001B[38;5;124;03mParameters\u001B[39;00m\n\u001B[1;32m   (...)\u001B[0m\n\u001B[0;32m    221\u001B[0m \n\u001B[0;32m    222\u001B[0m \u001B[38;5;124;03m\"\"\"\u001B[39;00m\n\u001B[0;32m    223\u001B[0m \u001B[38;5;28;01mif\u001B[39;00m image\u001B[38;5;241m.\u001B[39mndim \u001B[38;5;241m!=\u001B[39m \u001B[38;5;241m2\u001B[39m:\n\u001B[1;32m--> 224\u001B[0m     \u001B[38;5;28;01mraise\u001B[39;00m \u001B[38;5;167;01mNotImplementedError\u001B[39;00m(\u001B[38;5;124m'\u001B[39m\u001B[38;5;124m`perimeter` supports 2D images only\u001B[39m\u001B[38;5;124m'\u001B[39m)\n\u001B[0;32m    226\u001B[0m \u001B[38;5;28;01mif\u001B[39;00m neighborhood \u001B[38;5;241m==\u001B[39m \u001B[38;5;241m4\u001B[39m:\n\u001B[0;32m    227\u001B[0m     strel \u001B[38;5;241m=\u001B[39m STREL_4\n",
      "\u001B[1;31mNotImplementedError\u001B[0m: `perimeter` supports 2D images only"
     ]
    }
   ],
   "source": [
    "all_arrays = np.array([[0, 0, 255, 255, 255, 0, 0],\n",
    "                       [0, 255, 0, 0, 0, 255, 0],\n",
    "                       [0, 255, 0, 0, 0, 255, 0],\n",
    "                       [0, 255, 0, 0, 0, 255, 0],\n",
    "                       [0, 0, 255, 0, 0, 255, 0],\n",
    "                       [0, 0, 255, 255, 255, 255, 0],\n",
    "                       [0, 0, 0, 0, 0, 0, 0]\n",
    "                       ])\n",
    "\n",
    "print(\"Jaki powinien wyjsc obwod: 12 + 3 pierwiastki z 2 czyli 16,24264068711929\")\n",
    "print(len(code))\n",
    "plt.imshow(all_arrays, cmap='gray', vmin=0, vmax=255)"
   ],
   "metadata": {
    "collapsed": false,
    "ExecuteTime": {
     "end_time": "2023-12-04T13:39:19.649415300Z",
     "start_time": "2023-12-04T13:39:19.634658100Z"
    }
   },
   "id": "5c2f070e23ad4138"
  }
 ],
 "metadata": {
  "kernelspec": {
   "display_name": "Python 3",
   "language": "python",
   "name": "python3"
  },
  "language_info": {
   "codemirror_mode": {
    "name": "ipython",
    "version": 2
   },
   "file_extension": ".py",
   "mimetype": "text/x-python",
   "name": "python",
   "nbconvert_exporter": "python",
   "pygments_lexer": "ipython2",
   "version": "2.7.6"
  }
 },
 "nbformat": 4,
 "nbformat_minor": 5
}
