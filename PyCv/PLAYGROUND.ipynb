{
 "cells": [
  {
   "cell_type": "code",
   "execution_count": 7,
   "id": "initial_id",
   "metadata": {
    "collapsed": true,
    "ExecuteTime": {
     "end_time": "2023-11-24T08:55:22.654696800Z",
     "start_time": "2023-11-24T08:55:22.648690300Z"
    }
   },
   "outputs": [],
   "source": [
    "import cv2\n",
    "import numpy as np\n",
    "import matplotlib.pyplot as plt"
   ]
  },
  {
   "cell_type": "code",
   "execution_count": 8,
   "outputs": [
    {
     "name": "stdout",
     "output_type": "stream",
     "text": [
      "Jaki powinien wyjsc obwod: 12 + 3 pierwiastki z 2 czyli 16,24264068711929\n",
      "Jaki wyszedł? : X\n"
     ]
    },
    {
     "data": {
      "text/plain": "<matplotlib.image.AxesImage at 0x2265422a1b0>"
     },
     "execution_count": 8,
     "metadata": {},
     "output_type": "execute_result"
    },
    {
     "data": {
      "text/plain": "<Figure size 640x480 with 1 Axes>",
      "image/png": "[encoded data removed]"
     },
     "metadata": {},
     "output_type": "display_data"
    }
   ],
   "source": [
    "all_arrays = np.array([[0, 0, 255, 255, 255, 0, 0],\n",
    "                       [0, 255, 0, 0, 0, 255, 0],\n",
    "                       [0, 255, 0, 0, 0, 255, 0],\n",
    "                       [0, 255, 0, 0, 0, 255, 0],\n",
    "                       [0, 0, 255, 0, 0, 255, 0],\n",
    "                       [0, 0, 255, 255, 255, 255, 0],\n",
    "                       [0, 0, 0, 0, 0, 0, 0]\n",
    "                       ])\n",
    "\n",
    "print(\"Jaki powinien wyjsc obwod: 12 + 3 pierwiastki z 2 czyli 16,24264068711929\")\n",
    "print(\"Jaki wyszedł? : X\")\n",
    "plt.imshow(all_arrays, cmap='gray', vmin=0, vmax=255)"
   ],
   "metadata": {
    "collapsed": false,
    "ExecuteTime": {
     "end_time": "2023-11-24T08:55:22.782474700Z",
     "start_time": "2023-11-24T08:55:22.655674Z"
    }
   },
   "id": "5c2f070e23ad4138"
  }
 ],
 "metadata": {
  "kernelspec": {
   "display_name": "Python 3",
   "language": "python",
   "name": "python3"
  },
  "language_info": {
   "codemirror_mode": {
    "name": "ipython",
    "version": 2
   },
   "file_extension": ".py",
   "mimetype": "text/x-python",
   "name": "python",
   "nbconvert_exporter": "python",
   "pygments_lexer": "ipython2",
   "version": "2.7.6"
  }
 },
 "nbformat": 4,
 "nbformat_minor": 5
}
