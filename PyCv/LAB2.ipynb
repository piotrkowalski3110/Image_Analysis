{
 "cells": [
  {
   "cell_type": "code",
   "execution_count": null,
   "id": "initial_id",
   "metadata": {
    "collapsed": true
   },
   "outputs": [],
   "source": [
    "import cv2\n",
    "import matplotlib.pyplot as plt\n",
    "import numpy as np"
   ]
  },
  {
   "cell_type": "markdown",
   "source": [
    "# Przygotowanie klasy Images odpowiedzialnej za utworzenie obiektu przetrzymującego właściwości wszystkich palet, obrazów w skali szarości oraz binaryzacji w celu późniejszego łatwiejszego ich wyświetlania"
   ],
   "metadata": {
    "collapsed": false
   },
   "id": "b31b23c49f42932e"
  },
  {
   "cell_type": "code",
   "execution_count": null,
   "outputs": [],
   "source": [
    "class Images:\n",
    "    def __init__(self, srcImg, gtImg):\n",
    "        self.Image = srcImg\n",
    "        self.GT_Image = cv2.cvtColor(gtImg, cv2.COLOR_BGR2GRAY)\n",
    "\n",
    "        self.RGB_Image = cv2.cvtColor(srcImg, cv2.COLOR_BGR2RGB)\n",
    "        self.XYZ_Image = cv2.cvtColor(srcImg, cv2.COLOR_BGR2XYZ)\n",
    "        self.LAB_Image = cv2.cvtColor(srcImg, cv2.COLOR_BGR2LAB)\n",
    "        self.HLS_Image = cv2.cvtColor(srcImg, cv2.COLOR_BGR2HLS)\n",
    "        self.HSV_Image = cv2.cvtColor(srcImg, cv2.COLOR_BGR2HSV)\n",
    "\n",
    "        self.RGB_Gray = cv2.cvtColor(self.RGB_Image, cv2.COLOR_RGB2GRAY)\n",
    "        self.XYZ_Gray = self.XYZ_Image[:, :, 1]\n",
    "        self.LAB_Gray = self.LAB_Image[:, :, 0]\n",
    "        self.HLS_Gray = self.HLS_Image[:, :, 1]\n",
    "        self.HSV_Gray = self.HSV_Image[:, :, 2]\n",
    "\n",
    "        (RGBThr, self.RGBBin) = cv2.threshold(self.RGB_Gray, 0, 255, cv2.THRESH_BINARY | cv2.THRESH_OTSU)\n",
    "        (XYZThr, self.XYZBin) = cv2.threshold(self.XYZ_Gray, 0, 255, cv2.THRESH_BINARY | cv2.THRESH_OTSU)\n",
    "        (LABThr, self.LABBin) = cv2.threshold(self.LAB_Gray, 0, 255, cv2.THRESH_BINARY | cv2.THRESH_OTSU)\n",
    "        (HLSThr, self.HLSBin) = cv2.threshold(self.HLS_Gray, 0, 255, cv2.THRESH_BINARY | cv2.THRESH_OTSU)\n",
    "        (HSVThr, self.HSVBin) = cv2.threshold(self.HSV_Gray, 0, 255, cv2.THRESH_BINARY | cv2.THRESH_OTSU)\n",
    "\n",
    "        self.RGB_Niblack = cv2.ximgproc.niBlackThreshold(self.RGB_Gray, 255, cv2.THRESH_BINARY, 199, -0.2,\n",
    "                                                         binarizationMethod=cv2.ximgproc.BINARIZATION_NIBLACK)\n",
    "        self.RGB_Sauvola = cv2.ximgproc.niBlackThreshold(self.RGB_Gray, 255, cv2.THRESH_BINARY, 33, 0.5,\n",
    "                                                         binarizationMethod=cv2.ximgproc.BINARIZATION_SAUVOLA)\n",
    "\n",
    "        self.XYZ_Niblack = cv2.ximgproc.niBlackThreshold(self.XYZ_Gray, 255, cv2.THRESH_BINARY, 199, -0.2,\n",
    "                                                         binarizationMethod=cv2.ximgproc.BINARIZATION_NIBLACK)\n",
    "        self.XYZ_Sauvola = cv2.ximgproc.niBlackThreshold(self.XYZ_Gray, 255, cv2.THRESH_BINARY, 33, 0.5,\n",
    "                                                         binarizationMethod=cv2.ximgproc.BINARIZATION_SAUVOLA)\n",
    "\n",
    "        self.LAB_Niblack = cv2.ximgproc.niBlackThreshold(self.LAB_Gray, 255, cv2.THRESH_BINARY, 199, -0.2,\n",
    "                                                         binarizationMethod=cv2.ximgproc.BINARIZATION_NIBLACK)\n",
    "        self.LAB_Sauvola = cv2.ximgproc.niBlackThreshold(self.LAB_Gray, 255, cv2.THRESH_BINARY, 33, 0.5,\n",
    "                                                         binarizationMethod=cv2.ximgproc.BINARIZATION_SAUVOLA)\n",
    "\n",
    "        self.HLS_Niblack = cv2.ximgproc.niBlackThreshold(self.HLS_Gray, 255, cv2.THRESH_BINARY, 199, -0.2,\n",
    "                                                         binarizationMethod=cv2.ximgproc.BINARIZATION_NIBLACK)\n",
    "        self.HLS_Sauvola = cv2.ximgproc.niBlackThreshold(self.HLS_Gray, 255, cv2.THRESH_BINARY, 33, 0.5,\n",
    "                                                         binarizationMethod=cv2.ximgproc.BINARIZATION_SAUVOLA)\n",
    "\n",
    "        self.HSV_Niblack = cv2.ximgproc.niBlackThreshold(self.HSV_Gray, 255, cv2.THRESH_BINARY, 199, -0.2,\n",
    "                                                         binarizationMethod=cv2.ximgproc.BINARIZATION_NIBLACK)\n",
    "        self.HSV_Sauvola = cv2.ximgproc.niBlackThreshold(self.HSV_Gray, 255, cv2.THRESH_BINARY, 33, 0.5,\n",
    "                                                         binarizationMethod=cv2.ximgproc.BINARIZATION_SAUVOLA)\n",
    "\n",
    "        self.AllColors = [self.RGB_Image, self.XYZ_Image, self.LAB_Image, self.HLS_Image, self.HSV_Image]\n",
    "        self.Grays = [self.RGB_Gray, self.XYZ_Gray, self.LAB_Gray, self.HLS_Gray, self.HSV_Gray]\n",
    "        self.Bins = [self.RGBBin, self.XYZBin, self.LABBin, self.HLSBin, self.HLSBin, self.HSVBin]\n",
    "        self.Niblacks = [self.RGB_Niblack, self.XYZ_Niblack, self.LAB_Niblack, self.HLS_Niblack, self.HSV_Niblack]\n",
    "        self.Sauvolas = [self.RGB_Sauvola, self.XYZ_Sauvola, self.LAB_Sauvola, self.HLS_Sauvola, self.HSV_Sauvola]\n",
    "        self.colorNames = [\"RGB\", \"XYZ\", \"LAB\", \"HLS\", \"HSV\"]\n",
    "\n",
    "\n",
    "def Precision(u, u0_GT):\n",
    "    temp_tp = (u == 0) & (u0_GT == 0)\n",
    "    temp_fp = (u == 0) & (u0_GT != 0)\n",
    "    count_tp = sum(sum(temp_tp))\n",
    "    count_fp = sum(sum(temp_fp))\n",
    "    temp_p = count_tp / (count_fp + count_tp)\n",
    "    return temp_p\n",
    "\n",
    "\n",
    "def Recall(u, u0_GT):\n",
    "    temp_tp = (u == 0) & (u0_GT == 0)\n",
    "    temp_fn = (u != 0) & (u0_GT == 0)\n",
    "    count_tp = sum(sum(temp_tp))\n",
    "    count_fn = sum(sum(temp_fn))\n",
    "    temp_r = count_tp / (count_fn + count_tp)\n",
    "    return temp_r\n",
    "\n",
    "\n",
    "def F_measure(u, u0_GT):\n",
    "    temp_p = Precision(u, u0_GT)\n",
    "    temp_r = Recall(u, u0_GT)\n",
    "    temp_f = 100 * 2 * (temp_p * temp_r) / (temp_p + temp_r)\n",
    "    return temp_f\n",
    "\n",
    "\n",
    "def PSNR(u, u0_GT):\n",
    "    (xm, ym) = size(u)\n",
    "    temp_fp = (u == 0) & (u0_GT != 0)\n",
    "    temp_fn = (u != 0) & (u0_GT == 0)\n",
    "    err=sum(sum(temp_fp | temp_fn)) / (xm * ym)\n",
    "    return\n"
   ],
   "metadata": {
    "collapsed": false
   },
   "id": "f4b3d4ff3b388507"
  },
  {
   "cell_type": "markdown",
   "source": [
    "# Wczytanie 3 różnych obrazów z bazy dibco jako argumentów do konstruktora obiektu z klasy Images\n",
    "\n",
    "Obrazy zostają zamknięte w tablicy `ARGUMENTS` w celu wyświetlania obiektów w pętli"
   ],
   "metadata": {
    "collapsed": false
   },
   "id": "1f11c2a43871b80b"
  },
  {
   "cell_type": "code",
   "execution_count": null,
   "outputs": [],
   "source": [
    "Im1 = Images(cv2.imread(\"./DIBCO/H04.png\"), cv2.imread(\"./DIBCO/H04_GT.tif\"))\n",
    "Im2 = Images(cv2.imread(\"./DIBCO/H08.png\"), cv2.imread(\"./DIBCO/H08_GT.tif\"))\n",
    "Im3 = Images(cv2.imread(\"./DIBCO/H12.png\"), cv2.imread(\"./DIBCO/H12_GT.tif\"))"
   ],
   "metadata": {
    "collapsed": false
   },
   "id": "12b6094d5c0b6a05"
  },
  {
   "cell_type": "markdown",
   "source": [
    "# Zadanie nr 1 - binaryzacja obrazu DIBCO metodą OTSU dla różnych metod konwersji obrazu kolorowego do skali szarośc"
   ],
   "metadata": {
    "collapsed": false
   },
   "id": "9568e8865e202fd7"
  },
  {
   "cell_type": "code",
   "execution_count": null,
   "outputs": [],
   "source": [
    "ARGUMENTS = [Im1, Im2, Im3]\n",
    "\n",
    "for argIm in ARGUMENTS:\n",
    "    for i in range(5):\n",
    "        fig, (ax1, ax2, ax3) = plt.subplots(1, 3)\n",
    "        fig.set_figheight(15)\n",
    "        fig.set_figwidth(15)\n",
    "\n",
    "        ax1.axis('off')\n",
    "        ax1.imshow(argIm.AllColors[i])\n",
    "        ax1.set_title(argIm.colorNames[i])\n",
    "\n",
    "        ax2.axis('off')\n",
    "        ax2.imshow(argIm.Grays[i], cmap='gray', vmin=0, vmax=255)\n",
    "        ax2.set_title(argIm.colorNames[i] + ' Gray')\n",
    "\n",
    "        ax3.axis('off')\n",
    "        ax3.imshow(argIm.Bins[i], cmap='gray', vmin=0, vmax=255)\n",
    "        ax3.set_title(argIm.colorNames[i] + ' OTSU')"
   ],
   "metadata": {
    "collapsed": false
   },
   "id": "ef5923134ef65a75"
  },
  {
   "cell_type": "markdown",
   "source": [
    "# Zadanie nr 2 -  implementacja metody Sauvola oraz Niblack, porównanie z metodą OTSU"
   ],
   "metadata": {
    "collapsed": false
   },
   "id": "efc786ab4a57fc10"
  },
  {
   "cell_type": "code",
   "execution_count": null,
   "outputs": [],
   "source": [
    "for argIm in ARGUMENTS:\n",
    "    for i in range(5):\n",
    "        fig, (ax1, ax2, ax3) = plt.subplots(1, 3)\n",
    "        fig.set_figheight(15)\n",
    "        fig.set_figwidth(15)\n",
    "\n",
    "        ax1.axis('off')\n",
    "        ax1.imshow(argIm.Bins[i], cmap='gray', vmin=0, vmax=255)\n",
    "        ax1.set_title(argIm.colorNames[i] + ' OTSU')\n",
    "\n",
    "        ax2.axis('off')\n",
    "        ax2.imshow(argIm.Niblacks[i], cmap='gray', vmin=0, vmax=255)\n",
    "        ax2.set_title(argIm.colorNames[i] + ' Niblack')\n",
    "\n",
    "        ax3.axis('off')\n",
    "        ax3.imshow(argIm.Sauvolas[i], cmap='gray', vmin=0, vmax=255)\n",
    "        ax3.set_title(argIm.colorNames[i] + ' Sauvola')"
   ],
   "metadata": {
    "collapsed": false
   },
   "id": "dabdce2ce6bc6932"
  }
 ],
 "metadata": {
  "kernelspec": {
   "display_name": "Python 3",
   "language": "python",
   "name": "python3"
  },
  "language_info": {
   "codemirror_mode": {
    "name": "ipython",
    "version": 2
   },
   "file_extension": ".py",
   "mimetype": "text/x-python",
   "name": "python",
   "nbconvert_exporter": "python",
   "pygments_lexer": "ipython2",
   "version": "2.7.6"
  }
 },
 "nbformat": 4,
 "nbformat_minor": 5
}
