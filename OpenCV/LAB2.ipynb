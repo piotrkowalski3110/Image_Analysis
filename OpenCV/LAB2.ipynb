{
 "cells": [
  {
   "cell_type": "code",
   "execution_count": null,
   "outputs": [],
   "source": [
    "import cv2\n",
    "import matplotlib.pyplot as plt\n",
    "import numpy as np"
   ],
   "metadata": {
    "collapsed": false
   },
   "id": "6e9a0e11914b67b1"
  },
  {
   "cell_type": "markdown",
   "source": [
    "# Przygotowanie obrazu wejściowego, obrazów w innych paletach barw oraz obrazów w skali szarości\n",
    "\n",
    "wczytanie obrazu basowego i GT za pomocą funkcji `cv2.imread()`\n",
    "konwersja obrazu do innej palety barw z wykorzystaniem funkcji `cv2.cvtColor`\n",
    "konwersja obrazu do skali szarości poprzez wyciągnięcie `składowej luminancji np. xyzGray = xyzColor[:, :, 1]` lub wykorzystanie ponownie funkcji `cv2.cvtColor`"
   ],
   "metadata": {
    "collapsed": false
   },
   "id": "73e78cceb5f0c4df"
  },
  {
   "cell_type": "code",
   "execution_count": null,
   "outputs": [],
   "source": [
    "BaseImage = cv2.imread(\"DIBCO/H04.png\")\n",
    "BaseImage_GT = cv2.cvtColor(cv2.imread(\"DIBCO/H04_GT.tif\"), cv2.COLOR_BGR2GRAY)\n",
    "\n",
    "rgbImage = cv2.cvtColor(BaseImage, cv2.COLOR_BGR2RGB)\n",
    "xyzImage = cv2.cvtColor(BaseImage, cv2.COLOR_BGR2XYZ)\n",
    "labImage = cv2.cvtColor(BaseImage, cv2.COLOR_BGR2LAB)\n",
    "hlsImage = cv2.cvtColor(BaseImage, cv2.COLOR_BGR2HLS)\n",
    "hsvImage = cv2.cvtColor(BaseImage, cv2.COLOR_BGR2HSV)\n",
    "\n",
    "rgbGray = cv2.cvtColor(rgbImage, cv2.COLOR_RGB2GRAY)\n",
    "xyzGray = xyzImage[:, :, 1]\n",
    "labGray = labImage[:, :, 0]\n",
    "hlsGray = hlsImage[:, :, 1]\n",
    "hsvGray = hsvImage[:, :, 2]"
   ],
   "metadata": {
    "collapsed": false
   },
   "id": "fe125b5b01cb4b9d"
  },
  {
   "cell_type": "markdown",
   "source": [
    "# Zadanie nr 1 - binaryzacja obrazu DIBCO metodą OTSU dla różnych metod konwersji obrazu kolorowego do skali szarości\n",
    "\n",
    "Wyświetlanie obrazów odbywa się poprzez zastosowanie zdefiniowanej funkcji `PrintColGrBin`, która wyświetla na jednym plocie obraz kolorowy, w skali szarości oraz obraz zbinaryzowany metodą OTSU\n",
    "Obrazy binarzowane są metodą `cv2.threshold()`, która zwraca próg binaryzacji oraz obraz zbinaryzowany"
   ],
   "metadata": {
    "collapsed": false
   },
   "id": "c97caa0045c58af8"
  },
  {
   "cell_type": "code",
   "execution_count": null,
   "outputs": [],
   "source": [
    "def PrintColGrOtsu(imCol, imGr, imOtsu, colSpace):\n",
    "    fig, (ax1, ax2, ax3) = plt.subplots(1, 3)\n",
    "    fig.set_figheight(15)\n",
    "    fig.set_figwidth(15)\n",
    "\n",
    "    ax1.axis('off')\n",
    "    ax1.imshow(imCol)\n",
    "    ax1.set_title(colSpace)\n",
    "\n",
    "    ax2.axis('off')\n",
    "    ax2.imshow(imGr, cmap='gray', vmin=0, vmax=255)\n",
    "    ax2.set_title(colSpace + ' Gray')\n",
    "\n",
    "    ax3.axis('off')\n",
    "    ax3.imshow(imOtsu, cmap='gray', vmin=0, vmax=255)\n",
    "    ax3.set_title(colSpace + ' OTSU')\n",
    "\n",
    "\n",
    "(rgbThr, rgbOtsu) = cv2.threshold(rgbGray, 0, 255, cv2.THRESH_BINARY | cv2.THRESH_OTSU)\n",
    "(xyzThr, xyzOtsu) = cv2.threshold(xyzGray, 0, 255, cv2.THRESH_BINARY | cv2.THRESH_OTSU)\n",
    "(labThr, labOtsu) = cv2.threshold(labGray, 0, 255, cv2.THRESH_BINARY | cv2.THRESH_OTSU)\n",
    "(hlsThr, hlsOtsu) = cv2.threshold(hlsGray, 0, 255, cv2.THRESH_BINARY | cv2.THRESH_OTSU)\n",
    "(hsvThr, hsvOtsu) = cv2.threshold(hsvGray, 0, 255, cv2.THRESH_BINARY | cv2.THRESH_OTSU)\n",
    "\n",
    "PrintColGrOtsu(rgbImage, rgbGray, rgbOtsu, 'RGB')\n",
    "PrintColGrOtsu(xyzImage, xyzGray, xyzOtsu, 'XYZ')\n",
    "PrintColGrOtsu(labImage, labGray, labOtsu, 'LAB')\n",
    "PrintColGrOtsu(hlsImage, hlsGray, hlsOtsu, 'HLS')\n",
    "PrintColGrOtsu(hsvImage, hsvGray, hsvOtsu, 'HSV')"
   ],
   "metadata": {
    "collapsed": false
   },
   "id": "c6aaad03d0f76493"
  },
  {
   "cell_type": "markdown",
   "source": [
    "# Zadanie nr 2 - implementacja metody Sauvola oraz Niblack, porównanie z metodą OTSU"
   ],
   "metadata": {
    "collapsed": false
   },
   "id": "d330725aac6fef87"
  },
  {
   "cell_type": "code",
   "execution_count": null,
   "outputs": [],
   "source": [
    "def PrintColGrOtsuNiblackSauvola(imCol, imGr, imOtsu, imNiblack, imSauvola, colSpace):\n",
    "    fig, (ax1, ax2, ax3, ax4, ax5) = plt.subplots(1, 5)\n",
    "    fig.set_figheight(15)\n",
    "    fig.set_figwidth(15)\n",
    "\n",
    "    ax1.axis('off')\n",
    "    ax1.imshow(imCol)\n",
    "    ax1.set_title(colSpace)\n",
    "\n",
    "    ax2.axis('off')\n",
    "    ax2.imshow(imGr, cmap='gray', vmin=0, vmax=255)\n",
    "    ax2.set_title(colSpace + ' Gray')\n",
    "\n",
    "    ax3.axis('off')\n",
    "    ax3.imshow(imOtsu, cmap='gray', vmin=0, vmax=255)\n",
    "    ax3.set_title(colSpace + ' OTSU')\n",
    "\n",
    "    ax4.axis('off')\n",
    "    ax4.imshow(imNiblack, cmap='gray', vmin=0, vmax=255)\n",
    "    ax4.set_title(colSpace + ' Niblack')\n",
    "\n",
    "    ax5.axis('off')\n",
    "    ax5.imshow(imSauvola, cmap='gray', vmin=0, vmax=255)\n",
    "    ax5.set_title(colSpace + ' Sauvola')\n",
    "\n",
    "\n",
    "rgbNiblack = cv2.ximgproc.niBlackThreshold(rgbGray, 255, cv2.THRESH_BINARY, 199, -0.2, binarizationMethod=cv2.ximgproc.BINARIZATION_NIBLACK)\n",
    "rgbSauvola = cv2.ximgproc.niBlackThreshold(rgbGray, 255, cv2.THRESH_BINARY, 33, 0.5, binarizationMethod=cv2.ximgproc.BINARIZATION_SAUVOLA)\n",
    "PrintColGrOtsuNiblackSauvola(rgbImage, rgbGray, rgbOtsu, rgbNiblack, rgbSauvola, 'RGB')\n",
    "\n",
    "xyzNiblack = cv2.ximgproc.niBlackThreshold(xyzGray, 255, cv2.THRESH_BINARY, 199, -0.2, binarizationMethod=cv2.ximgproc.BINARIZATION_NIBLACK)\n",
    "xyzSauvola = cv2.ximgproc.niBlackThreshold(xyzGray, 255, cv2.THRESH_BINARY, 33, 0.5, binarizationMethod=cv2.ximgproc.BINARIZATION_SAUVOLA)\n",
    "PrintColGrOtsuNiblackSauvola(xyzImage, xyzGray, xyzOtsu, xyzNiblack, xyzSauvola, 'XYZ')\n",
    "\n",
    "labNiblack = cv2.ximgproc.niBlackThreshold(labGray, 255, cv2.THRESH_BINARY, 199, -0.2, binarizationMethod=cv2.ximgproc.BINARIZATION_NIBLACK)\n",
    "labSauvola = cv2.ximgproc.niBlackThreshold(labGray, 255, cv2.THRESH_BINARY, 33, 0.5, binarizationMethod=cv2.ximgproc.BINARIZATION_SAUVOLA)\n",
    "PrintColGrOtsuNiblackSauvola(labImage, labGray, labOtsu, labNiblack, labSauvola, 'LAB')\n",
    "\n",
    "hlsNiblack = cv2.ximgproc.niBlackThreshold(hlsGray, 255, cv2.THRESH_BINARY, 199, -0.2, binarizationMethod=cv2.ximgproc.BINARIZATION_NIBLACK)\n",
    "hlsSauvola = cv2.ximgproc.niBlackThreshold(hlsGray, 255, cv2.THRESH_BINARY, 33, 0.5, binarizationMethod=cv2.ximgproc.BINARIZATION_SAUVOLA)\n",
    "PrintColGrOtsuNiblackSauvola(hlsImage, hlsGray, hlsOtsu, hlsNiblack, hlsSauvola, 'HLS')\n",
    "\n",
    "hsvNiblack = cv2.ximgproc.niBlackThreshold(hsvGray, 255, cv2.THRESH_BINARY, 199, -0.2, binarizationMethod=cv2.ximgproc.BINARIZATION_NIBLACK)\n",
    "hsvSauvola = cv2.ximgproc.niBlackThreshold(hsvGray, 255, cv2.THRESH_BINARY, 33, 0.5, binarizationMethod=cv2.ximgproc.BINARIZATION_SAUVOLA)\n",
    "PrintColGrOtsuNiblackSauvola(hsvImage, hsvGray, hsvOtsu, hsvNiblack, hsvSauvola, 'HSV')"
   ],
   "metadata": {
    "collapsed": false
   },
   "id": "b8bcc3e9eb731e52"
  },
  {
   "cell_type": "markdown",
   "source": [
    "# Zadanie nr 3 - Implementacja wskaźników DRD, MPM, PSNR, Precision, Recall oraz F-Measure"
   ],
   "metadata": {
    "collapsed": false
   },
   "id": "f0f7f4cbed2da591"
  },
  {
   "cell_type": "code",
   "execution_count": null,
   "outputs": [],
   "source": [
    "# u is: the input binarized image to be evaluated.\n",
    "# u0_GT: is the ground-truth binarized image.\n",
    "def wskazniki(u, u0_GT, colorName):\n",
    "    temp_tp = (u == 0) & (u0_GT == 0)\n",
    "    temp_fp = (u == 0) & (u0_GT != 0)\n",
    "    temp_fn = (u != 0) & (u0_GT == 0)\n",
    "    \n",
    "    count_tp = sum(sum(temp_tp))\n",
    "    count_fp = sum(sum(temp_fp))\n",
    "    count_fn = sum(sum(temp_fn))\n",
    "    \n",
    "    temp_p = count_tp / (count_fp + count_tp)\n",
    "    temp_r = count_tp / (count_fn + count_tp)\n",
    "    temp_f = 100 * 2 * (temp_p * temp_r) / (temp_p + temp_r)\n",
    "    \n",
    "    print(\"Wyniki dla przestrzeni barw \", colorName)\n",
    "    print(\"Precision = \", temp_p)\n",
    "    print(\"Recall = \", temp_r)\n",
    "    print(\"F-measure = \", temp_f)\n",
    "    print(\"\\n\")\n",
    "\n",
    "wskazniki(rgbOtsu, BaseImage_GT, \"RGB OTSU\")\n",
    "wskazniki(xyzOtsu, BaseImage_GT, \"XYZ OTSU\")\n",
    "wskazniki(labOtsu, BaseImage_GT, \"LAB OTSU\")\n",
    "wskazniki(hlsOtsu, BaseImage_GT, \"HLS OTSU\")\n",
    "wskazniki(hsvOtsu, BaseImage_GT, \"HSV OTSU\")"
   ],
   "metadata": {
    "collapsed": false
   },
   "id": "4ede83fdc3d62cf2"
  }
 ],
 "metadata": {
  "kernelspec": {
   "display_name": "Python 3",
   "language": "python",
   "name": "python3"
  },
  "language_info": {
   "codemirror_mode": {
    "name": "ipython",
    "version": 2
   },
   "file_extension": ".py",
   "mimetype": "text/x-python",
   "name": "python",
   "nbconvert_exporter": "python",
   "pygments_lexer": "ipython2",
   "version": "2.7.6"
  }
 },
 "nbformat": 4,
 "nbformat_minor": 5
}
